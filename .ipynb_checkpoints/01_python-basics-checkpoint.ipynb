{
 "cells": [
  {
   "cell_type": "markdown",
   "id": "92f1a0a8",
   "metadata": {},
   "source": [
    "## Python Basic Operations"
   ]
  },
  {
   "cell_type": "code",
   "execution_count": 1,
   "id": "7b496bf1",
   "metadata": {},
   "outputs": [],
   "source": [
    "person = \"Ruman\""
   ]
  },
  {
   "cell_type": "code",
   "execution_count": 2,
   "id": "b4a479b7",
   "metadata": {},
   "outputs": [
    {
     "name": "stdout",
     "output_type": "stream",
     "text": [
      "My Name is Ruman\n"
     ]
    }
   ],
   "source": [
    "print(\"My Name is {}\".format(person))"
   ]
  },
  {
   "cell_type": "code",
   "execution_count": 3,
   "id": "6ac5c2ea",
   "metadata": {},
   "outputs": [
    {
     "name": "stdout",
     "output_type": "stream",
     "text": [
      "My Name is Ruman\n"
     ]
    }
   ],
   "source": [
    "print(f\"My Name is {person}\")"
   ]
  },
  {
   "cell_type": "code",
   "execution_count": 4,
   "id": "38fac066",
   "metadata": {},
   "outputs": [],
   "source": [
    "dictionary = {'a':123,'b':456}"
   ]
  },
  {
   "cell_type": "code",
   "execution_count": 5,
   "id": "52c1a5a5",
   "metadata": {},
   "outputs": [
    {
     "name": "stdout",
     "output_type": "stream",
     "text": [
      "Value of A = 123\n"
     ]
    }
   ],
   "source": [
    "print(f\"Value of A = {dictionary['a']}\")"
   ]
  },
  {
   "cell_type": "code",
   "execution_count": 6,
   "id": "dad19c72",
   "metadata": {},
   "outputs": [],
   "source": [
    "mylist = [1,2,3,4]"
   ]
  },
  {
   "cell_type": "code",
   "execution_count": 7,
   "id": "b1e3f5c1",
   "metadata": {},
   "outputs": [
    {
     "name": "stdout",
     "output_type": "stream",
     "text": [
      "Number at Index Zero is 1\n"
     ]
    }
   ],
   "source": [
    "print(f\"Number at Index Zero is {mylist[0]}\")"
   ]
  },
  {
   "cell_type": "code",
   "execution_count": 8,
   "id": "eeae9fa8",
   "metadata": {},
   "outputs": [],
   "source": [
    "library  = [('Author','Topic','Pages'),('Ruman Hossain','Test Statistics', 100),('James Frademan','Relational Database', 20),('Michael Marino','Chi-Square Test Statistics', 200)]"
   ]
  },
  {
   "cell_type": "code",
   "execution_count": 9,
   "id": "fda2c175",
   "metadata": {},
   "outputs": [
    {
     "data": {
      "text/plain": [
       "[('Author', 'Topic', 'Pages'),\n",
       " ('Ruman Hossain', 'Test Statistics', 100),\n",
       " ('James Frademan', 'Relational Database', 20),\n",
       " ('Michael Marino', 'Chi-Square Test Statistics', 200)]"
      ]
     },
     "execution_count": 9,
     "metadata": {},
     "output_type": "execute_result"
    }
   ],
   "source": [
    "library"
   ]
  },
  {
   "cell_type": "code",
   "execution_count": 10,
   "id": "5de23bb1",
   "metadata": {},
   "outputs": [
    {
     "name": "stdout",
     "output_type": "stream",
     "text": [
      "[('Author', 'Topic', 'Pages'), ('Ruman Hossain', 'Test Statistics', 100), ('James Frademan', 'Relational Database', 20), ('Michael Marino', 'Chi-Square Test Statistics', 200)]\n"
     ]
    }
   ],
   "source": [
    "print(library)"
   ]
  },
  {
   "cell_type": "code",
   "execution_count": 11,
   "id": "ccfea0ca",
   "metadata": {},
   "outputs": [
    {
     "name": "stdout",
     "output_type": "stream",
     "text": [
      "Topic is Written By Author having Pages Pages\n",
      "Test Statistics is Written By Ruman Hossain having 100 Pages\n",
      "Relational Database is Written By James Frademan having 20 Pages\n",
      "Chi-Square Test Statistics is Written By Michael Marino having 200 Pages\n"
     ]
    }
   ],
   "source": [
    "for book in library:\n",
    "    print(f\"{book[1]} is Written By {book[0]} having {book[2]} Pages\")"
   ]
  },
  {
   "cell_type": "code",
   "execution_count": 12,
   "id": "84eaf35a",
   "metadata": {},
   "outputs": [
    {
     "name": "stdout",
     "output_type": "stream",
     "text": [
      "Topic is Written By Author having Pages Pages\n",
      "Test Statistics is Written By Ruman Hossain having 100 Pages\n",
      "Relational Database is Written By James Frademan having 20 Pages\n",
      "Chi-Square Test Statistics is Written By Michael Marino having 200 Pages\n"
     ]
    }
   ],
   "source": [
    "for author,topic, pages in library:\n",
    "    print(f\"{topic} is Written By {author} having {pages} Pages\")"
   ]
  },
  {
   "cell_type": "code",
   "execution_count": 13,
   "id": "c5f6f8b5",
   "metadata": {},
   "outputs": [
    {
     "name": "stdout",
     "output_type": "stream",
     "text": [
      "Topic                          Author                         Pages     \n",
      "Test Statistics                Ruman Hossain                         100\n",
      "Relational Database            James Frademan                         20\n",
      "Chi-Square Test Statistics     Michael Marino                        200\n"
     ]
    }
   ],
   "source": [
    "for author,topic, pages in library:\n",
    "    print(f\"{topic:{30}} {author:{30}} {pages:{10}}\")"
   ]
  },
  {
   "cell_type": "code",
   "execution_count": 14,
   "id": "975ff02a",
   "metadata": {},
   "outputs": [
    {
     "name": "stdout",
     "output_type": "stream",
     "text": [
      "Topic                          Author                              Pages\n",
      "Test Statistics                Ruman Hossain                         100\n",
      "Relational Database            James Frademan                         20\n",
      "Chi-Square Test Statistics     Michael Marino                        200\n"
     ]
    }
   ],
   "source": [
    "for author,topic, pages in library:\n",
    "    print(f\"{topic:{30}} {author:{30}} {pages:>{10}}\")"
   ]
  },
  {
   "cell_type": "code",
   "execution_count": 15,
   "id": "8b492324",
   "metadata": {},
   "outputs": [
    {
     "name": "stdout",
     "output_type": "stream",
     "text": [
      "Topic                          Author                         -----Pages\n",
      "Test Statistics                Ruman Hossain                  -------100\n",
      "Relational Database            James Frademan                 --------20\n",
      "Chi-Square Test Statistics     Michael Marino                 -------200\n"
     ]
    }
   ],
   "source": [
    "for author,topic, pages in library:\n",
    "    print(f\"{topic:{30}} {author:{30}} {pages:->{10}}\")"
   ]
  },
  {
   "cell_type": "code",
   "execution_count": 16,
   "id": "1ca85eb5",
   "metadata": {},
   "outputs": [
    {
     "name": "stdout",
     "output_type": "stream",
     "text": [
      "Topic                          Author                         .....Pages\n",
      "Test Statistics                Ruman Hossain                  .......100\n",
      "Relational Database            James Frademan                 ........20\n",
      "Chi-Square Test Statistics     Michael Marino                 .......200\n"
     ]
    }
   ],
   "source": [
    "for author,topic, pages in library:\n",
    "    print(f\"{topic:{30}} {author:{30}} {pages:.>{10}}\")"
   ]
  },
  {
   "cell_type": "code",
   "execution_count": 17,
   "id": "925b1c86",
   "metadata": {},
   "outputs": [],
   "source": [
    "from datetime import datetime"
   ]
  },
  {
   "cell_type": "code",
   "execution_count": 18,
   "id": "2c48bd66",
   "metadata": {},
   "outputs": [],
   "source": [
    "today = datetime(year=2024, month=11,day=9)"
   ]
  },
  {
   "cell_type": "code",
   "execution_count": 19,
   "id": "54f2390f",
   "metadata": {},
   "outputs": [
    {
     "data": {
      "text/plain": [
       "datetime.datetime(2024, 11, 9, 0, 0)"
      ]
     },
     "execution_count": 19,
     "metadata": {},
     "output_type": "execute_result"
    }
   ],
   "source": [
    "today"
   ]
  },
  {
   "cell_type": "code",
   "execution_count": 20,
   "id": "3bacc611",
   "metadata": {},
   "outputs": [
    {
     "name": "stdout",
     "output_type": "stream",
     "text": [
      "2024-11-09 00:00:00\n"
     ]
    }
   ],
   "source": [
    "print(f\"{today}\")"
   ]
  },
  {
   "cell_type": "code",
   "execution_count": 21,
   "id": "2dbc595c",
   "metadata": {},
   "outputs": [
    {
     "name": "stdout",
     "output_type": "stream",
     "text": [
      "November 11/09/24, 2024\n"
     ]
    }
   ],
   "source": [
    "# Python strftime cheatsheet        https://strftime.org/ \n",
    "print(f\"{today:%B %D, %Y}\") "
   ]
  },
  {
   "cell_type": "code",
   "execution_count": 22,
   "id": "c6a5e007",
   "metadata": {},
   "outputs": [
    {
     "name": "stdout",
     "output_type": "stream",
     "text": [
      "Nov-09,2024\n"
     ]
    }
   ],
   "source": [
    "# Python strftime cheatsheet        https://strftime.org/ \n",
    "print(f\"{today:%b-%d,%Y}\") "
   ]
  },
  {
   "cell_type": "markdown",
   "id": "8990aa78",
   "metadata": {},
   "source": [
    "## Working With Text Files With Python"
   ]
  },
  {
   "cell_type": "markdown",
   "id": "413f8952",
   "metadata": {},
   "source": [
    "### Create File and Write"
   ]
  },
  {
   "cell_type": "code",
   "execution_count": 23,
   "id": "fbd74787",
   "metadata": {},
   "outputs": [
    {
     "name": "stdout",
     "output_type": "stream",
     "text": [
      "Overwriting test.txt\n"
     ]
    }
   ],
   "source": [
    "%%writefile test.txt\n",
    "Hello, this is a quick test file.\n",
    "This is the Second line of the file."
   ]
  },
  {
   "cell_type": "code",
   "execution_count": 24,
   "id": "70f68d3f",
   "metadata": {},
   "outputs": [
    {
     "data": {
      "text/plain": [
       "'D:\\\\RUMAN\\\\Code\\\\AI ML\\\\nlp'"
      ]
     },
     "execution_count": 24,
     "metadata": {},
     "output_type": "execute_result"
    }
   ],
   "source": [
    "pwd"
   ]
  },
  {
   "cell_type": "code",
   "execution_count": 25,
   "id": "3eca1d7a",
   "metadata": {},
   "outputs": [],
   "source": [
    "myfile = open(\"test.txt\")"
   ]
  },
  {
   "cell_type": "code",
   "execution_count": 26,
   "id": "d2f950d2",
   "metadata": {},
   "outputs": [
    {
     "data": {
      "text/plain": [
       "<_io.TextIOWrapper name='test.txt' mode='r' encoding='cp1252'>"
      ]
     },
     "execution_count": 26,
     "metadata": {},
     "output_type": "execute_result"
    }
   ],
   "source": [
    "myfile"
   ]
  },
  {
   "cell_type": "markdown",
   "id": "38f1921d",
   "metadata": {},
   "source": [
    "### Read File"
   ]
  },
  {
   "cell_type": "code",
   "execution_count": 27,
   "id": "86706c8e",
   "metadata": {},
   "outputs": [
    {
     "data": {
      "text/plain": [
       "'Hello, this is a quick test file.\\nThis is the Second line of the file.\\n'"
      ]
     },
     "execution_count": 27,
     "metadata": {},
     "output_type": "execute_result"
    }
   ],
   "source": [
    "myfile.read()"
   ]
  },
  {
   "cell_type": "markdown",
   "id": "6548e5ef",
   "metadata": {},
   "source": [
    "### File Can be Read One Time if you try to read again it will return Null as the cursor is at the end after reading first time"
   ]
  },
  {
   "cell_type": "code",
   "execution_count": 28,
   "id": "b256ad53",
   "metadata": {},
   "outputs": [
    {
     "data": {
      "text/plain": [
       "''"
      ]
     },
     "execution_count": 28,
     "metadata": {},
     "output_type": "execute_result"
    }
   ],
   "source": [
    "myfile.read()"
   ]
  },
  {
   "cell_type": "markdown",
   "id": "691ffbc0",
   "metadata": {},
   "source": [
    "### To Read the File Again you need to set the cursor point at the beginning then you can read that file again"
   ]
  },
  {
   "cell_type": "code",
   "execution_count": 29,
   "id": "1f89d851",
   "metadata": {},
   "outputs": [
    {
     "data": {
      "text/plain": [
       "0"
      ]
     },
     "execution_count": 29,
     "metadata": {},
     "output_type": "execute_result"
    }
   ],
   "source": [
    "myfile.seek(0)"
   ]
  },
  {
   "cell_type": "code",
   "execution_count": 30,
   "id": "8762f071",
   "metadata": {},
   "outputs": [
    {
     "data": {
      "text/plain": [
       "'Hello, this is a quick test file.\\nThis is the Second line of the file.\\n'"
      ]
     },
     "execution_count": 30,
     "metadata": {},
     "output_type": "execute_result"
    }
   ],
   "source": [
    "myfile.read()"
   ]
  },
  {
   "cell_type": "markdown",
   "id": "22023aea",
   "metadata": {},
   "source": [
    "### Suppose We want to set the cursor point at a Certain position then "
   ]
  },
  {
   "cell_type": "code",
   "execution_count": 31,
   "id": "13b975e7",
   "metadata": {},
   "outputs": [
    {
     "data": {
      "text/plain": [
       "7"
      ]
     },
     "execution_count": 31,
     "metadata": {},
     "output_type": "execute_result"
    }
   ],
   "source": [
    "myfile.seek(7)"
   ]
  },
  {
   "cell_type": "code",
   "execution_count": 32,
   "id": "71eda8a5",
   "metadata": {},
   "outputs": [
    {
     "data": {
      "text/plain": [
       "'this is a quick test file.\\nThis is the Second line of the file.\\n'"
      ]
     },
     "execution_count": 32,
     "metadata": {},
     "output_type": "execute_result"
    }
   ],
   "source": [
    "myfile.read()"
   ]
  },
  {
   "cell_type": "code",
   "execution_count": 33,
   "id": "8020bd1d",
   "metadata": {},
   "outputs": [
    {
     "data": {
      "text/plain": [
       "0"
      ]
     },
     "execution_count": 33,
     "metadata": {},
     "output_type": "execute_result"
    }
   ],
   "source": [
    "myfile.seek(0)"
   ]
  },
  {
   "cell_type": "markdown",
   "id": "2c7a7aad",
   "metadata": {},
   "source": [
    "### File Reading and File Content Reading is Different. Content Reading will show the Lines as it is "
   ]
  },
  {
   "cell_type": "code",
   "execution_count": 34,
   "id": "9cb079dc",
   "metadata": {},
   "outputs": [],
   "source": [
    "content = myfile.read()"
   ]
  },
  {
   "cell_type": "code",
   "execution_count": 35,
   "id": "8826f05e",
   "metadata": {},
   "outputs": [
    {
     "name": "stdout",
     "output_type": "stream",
     "text": [
      "Hello, this is a quick test file.\n",
      "This is the Second line of the file.\n",
      "\n"
     ]
    }
   ],
   "source": [
    "print(content)"
   ]
  },
  {
   "cell_type": "code",
   "execution_count": 36,
   "id": "8395f763",
   "metadata": {},
   "outputs": [
    {
     "data": {
      "text/plain": [
       "'Hello, this is a quick test file.\\nThis is the Second line of the file.\\n'"
      ]
     },
     "execution_count": 36,
     "metadata": {},
     "output_type": "execute_result"
    }
   ],
   "source": [
    "content"
   ]
  },
  {
   "cell_type": "markdown",
   "id": "68a8de58",
   "metadata": {},
   "source": [
    "### File Object Closing \n",
    "Always make sure to close file after Files Task is complete otherwise you may get error of Another file is opened"
   ]
  },
  {
   "cell_type": "code",
   "execution_count": 37,
   "id": "810a1b24",
   "metadata": {},
   "outputs": [],
   "source": [
    "myfile.close()"
   ]
  },
  {
   "cell_type": "code",
   "execution_count": 38,
   "id": "8faf6fd2",
   "metadata": {},
   "outputs": [],
   "source": [
    "myfile = open('test.txt')"
   ]
  },
  {
   "cell_type": "code",
   "execution_count": 39,
   "id": "dd918698",
   "metadata": {},
   "outputs": [
    {
     "data": {
      "text/plain": [
       "['Hello, this is a quick test file.\\n',\n",
       " 'This is the Second line of the file.\\n']"
      ]
     },
     "execution_count": 39,
     "metadata": {},
     "output_type": "execute_result"
    }
   ],
   "source": [
    "myfile.readlines()"
   ]
  },
  {
   "cell_type": "markdown",
   "id": "ebc782da",
   "metadata": {},
   "source": [
    "### File Readable or Not Checking"
   ]
  },
  {
   "cell_type": "code",
   "execution_count": 40,
   "id": "f3c0fddb",
   "metadata": {},
   "outputs": [
    {
     "data": {
      "text/plain": [
       "True"
      ]
     },
     "execution_count": 40,
     "metadata": {},
     "output_type": "execute_result"
    }
   ],
   "source": [
    "myfile.readable()"
   ]
  },
  {
   "cell_type": "code",
   "execution_count": 41,
   "id": "e35268a2",
   "metadata": {},
   "outputs": [
    {
     "data": {
      "text/plain": [
       "''"
      ]
     },
     "execution_count": 41,
     "metadata": {},
     "output_type": "execute_result"
    }
   ],
   "source": [
    "myfile.readline()"
   ]
  },
  {
   "cell_type": "markdown",
   "id": "e21425db",
   "metadata": {},
   "source": [
    "### Reset The Cursor Position from End to Beginning"
   ]
  },
  {
   "cell_type": "code",
   "execution_count": 42,
   "id": "9e27c5d9",
   "metadata": {},
   "outputs": [
    {
     "data": {
      "text/plain": [
       "0"
      ]
     },
     "execution_count": 42,
     "metadata": {},
     "output_type": "execute_result"
    }
   ],
   "source": [
    "myfile.seek(0)"
   ]
  },
  {
   "cell_type": "markdown",
   "id": "f14fcc12",
   "metadata": {},
   "source": [
    "### Single Line Reading and Cursor Position Will be in the Next Line"
   ]
  },
  {
   "cell_type": "code",
   "execution_count": 43,
   "id": "1e692bd5",
   "metadata": {},
   "outputs": [
    {
     "data": {
      "text/plain": [
       "'Hello, this is a quick test file.\\n'"
      ]
     },
     "execution_count": 43,
     "metadata": {},
     "output_type": "execute_result"
    }
   ],
   "source": [
    "myfile.readline()"
   ]
  },
  {
   "cell_type": "markdown",
   "id": "ee57fa11",
   "metadata": {},
   "source": [
    "### Next One line Reading if you don't Reset the Cursor Position"
   ]
  },
  {
   "cell_type": "code",
   "execution_count": 44,
   "id": "27ae96ca",
   "metadata": {},
   "outputs": [
    {
     "data": {
      "text/plain": [
       "'This is the Second line of the file.\\n'"
      ]
     },
     "execution_count": 44,
     "metadata": {},
     "output_type": "execute_result"
    }
   ],
   "source": [
    "myfile.readline()"
   ]
  },
  {
   "cell_type": "code",
   "execution_count": 45,
   "id": "7aea365b",
   "metadata": {},
   "outputs": [
    {
     "data": {
      "text/plain": [
       "''"
      ]
     },
     "execution_count": 45,
     "metadata": {},
     "output_type": "execute_result"
    }
   ],
   "source": [
    "myfile.read()"
   ]
  },
  {
   "cell_type": "code",
   "execution_count": 46,
   "id": "9b340cb5",
   "metadata": {},
   "outputs": [
    {
     "data": {
      "text/plain": [
       "0"
      ]
     },
     "execution_count": 46,
     "metadata": {},
     "output_type": "execute_result"
    }
   ],
   "source": [
    "myfile.seek(0)"
   ]
  },
  {
   "cell_type": "markdown",
   "id": "baa91c3b",
   "metadata": {},
   "source": [
    "### Reading First Character of Each Line "
   ]
  },
  {
   "cell_type": "code",
   "execution_count": 47,
   "id": "8c00e678",
   "metadata": {},
   "outputs": [],
   "source": [
    "mylines = myfile.readlines()"
   ]
  },
  {
   "cell_type": "code",
   "execution_count": 48,
   "id": "02f70fae",
   "metadata": {},
   "outputs": [
    {
     "name": "stdout",
     "output_type": "stream",
     "text": [
      "H\n",
      "T\n"
     ]
    }
   ],
   "source": [
    "for line in mylines:\n",
    "    print(line[0])"
   ]
  },
  {
   "cell_type": "code",
   "execution_count": 49,
   "id": "4db2529b",
   "metadata": {},
   "outputs": [
    {
     "data": {
      "text/plain": [
       "['Hello, this is a quick test file.\\n',\n",
       " 'This is the Second line of the file.\\n']"
      ]
     },
     "execution_count": 49,
     "metadata": {},
     "output_type": "execute_result"
    }
   ],
   "source": [
    "mylines"
   ]
  },
  {
   "cell_type": "markdown",
   "id": "113332dc",
   "metadata": {},
   "source": [
    "### Lines Printing Using Loop"
   ]
  },
  {
   "cell_type": "code",
   "execution_count": 50,
   "id": "312139c4",
   "metadata": {},
   "outputs": [
    {
     "name": "stdout",
     "output_type": "stream",
     "text": [
      "Hello, this is a quick test file.\n",
      "\n",
      "This is the Second line of the file.\n",
      "\n"
     ]
    }
   ],
   "source": [
    "for line in mylines:\n",
    "    print(line)"
   ]
  },
  {
   "cell_type": "markdown",
   "id": "00948040",
   "metadata": {},
   "source": [
    "### First Word Reading of Each Line"
   ]
  },
  {
   "cell_type": "code",
   "execution_count": 51,
   "id": "4e44945c",
   "metadata": {},
   "outputs": [
    {
     "name": "stdout",
     "output_type": "stream",
     "text": [
      "Hello,\n",
      "This\n"
     ]
    }
   ],
   "source": [
    "for line in mylines:\n",
    "    print(line.split()[0])"
   ]
  },
  {
   "cell_type": "markdown",
   "id": "85c5acf6",
   "metadata": {},
   "source": [
    "## Writing to File"
   ]
  },
  {
   "cell_type": "code",
   "execution_count": 52,
   "id": "e37bd209",
   "metadata": {},
   "outputs": [],
   "source": [
    "myfile = open('test.txt','w+')"
   ]
  },
  {
   "cell_type": "code",
   "execution_count": 53,
   "id": "8c341352",
   "metadata": {},
   "outputs": [
    {
     "data": {
      "text/plain": [
       "''"
      ]
     },
     "execution_count": 53,
     "metadata": {},
     "output_type": "execute_result"
    }
   ],
   "source": [
    "myfile.read()"
   ]
  },
  {
   "cell_type": "code",
   "execution_count": 54,
   "id": "5969fd11",
   "metadata": {},
   "outputs": [
    {
     "data": {
      "text/plain": [
       "28"
      ]
     },
     "execution_count": 54,
     "metadata": {},
     "output_type": "execute_result"
    }
   ],
   "source": [
    "myfile.write(\"New Text File With This Text\")"
   ]
  },
  {
   "cell_type": "code",
   "execution_count": 55,
   "id": "08c8f47f",
   "metadata": {},
   "outputs": [
    {
     "data": {
      "text/plain": [
       "''"
      ]
     },
     "execution_count": 55,
     "metadata": {},
     "output_type": "execute_result"
    }
   ],
   "source": [
    "myfile.read()"
   ]
  },
  {
   "cell_type": "code",
   "execution_count": 56,
   "id": "0fecec7c",
   "metadata": {},
   "outputs": [
    {
     "data": {
      "text/plain": [
       "0"
      ]
     },
     "execution_count": 56,
     "metadata": {},
     "output_type": "execute_result"
    }
   ],
   "source": [
    "myfile.seek(0)"
   ]
  },
  {
   "cell_type": "code",
   "execution_count": 57,
   "id": "2dd3183f",
   "metadata": {},
   "outputs": [
    {
     "data": {
      "text/plain": [
       "'New Text File With This Text'"
      ]
     },
     "execution_count": 57,
     "metadata": {},
     "output_type": "execute_result"
    }
   ],
   "source": [
    "myfile.read()"
   ]
  },
  {
   "cell_type": "code",
   "execution_count": 58,
   "id": "87f1cc27",
   "metadata": {},
   "outputs": [],
   "source": [
    "myfile.close()"
   ]
  },
  {
   "cell_type": "markdown",
   "id": "c615381d",
   "metadata": {},
   "source": [
    "## Open a File for Appending and Reading At the Same Time"
   ]
  },
  {
   "cell_type": "code",
   "execution_count": 59,
   "id": "9264ee5b",
   "metadata": {},
   "outputs": [],
   "source": [
    "myfile = open('ReadAppend.txt','a+')"
   ]
  },
  {
   "cell_type": "code",
   "execution_count": 60,
   "id": "89729bf1",
   "metadata": {},
   "outputs": [
    {
     "data": {
      "text/plain": [
       "''"
      ]
     },
     "execution_count": 60,
     "metadata": {},
     "output_type": "execute_result"
    }
   ],
   "source": [
    "myfile.read()"
   ]
  },
  {
   "cell_type": "code",
   "execution_count": 61,
   "id": "a89d8760",
   "metadata": {},
   "outputs": [
    {
     "data": {
      "text/plain": [
       "29"
      ]
     },
     "execution_count": 61,
     "metadata": {},
     "output_type": "execute_result"
    }
   ],
   "source": [
    "myfile.write(\"First Line in ReadAppend file\")"
   ]
  },
  {
   "cell_type": "code",
   "execution_count": 62,
   "id": "25e99aeb",
   "metadata": {},
   "outputs": [
    {
     "data": {
      "text/plain": [
       "''"
      ]
     },
     "execution_count": 62,
     "metadata": {},
     "output_type": "execute_result"
    }
   ],
   "source": [
    "myfile.read()"
   ]
  },
  {
   "cell_type": "code",
   "execution_count": 63,
   "id": "762f3491",
   "metadata": {},
   "outputs": [],
   "source": [
    "myfile.close()"
   ]
  },
  {
   "cell_type": "code",
   "execution_count": 64,
   "id": "960d0365",
   "metadata": {},
   "outputs": [],
   "source": [
    "newfile = open('ReadAppend.txt')"
   ]
  },
  {
   "cell_type": "code",
   "execution_count": 65,
   "id": "3ecd3ff7",
   "metadata": {},
   "outputs": [
    {
     "data": {
      "text/plain": [
       "'First Line in ReadAppend fileFirst Line in ReadAppend fileAnother Line added to readAppend File Cause File is opened in a+ mode\\nNew Line Text Added in a+ ModeFirst Line in ReadAppend file'"
      ]
     },
     "execution_count": 65,
     "metadata": {},
     "output_type": "execute_result"
    }
   ],
   "source": [
    "newfile.read()"
   ]
  },
  {
   "cell_type": "markdown",
   "id": "2aef9dda",
   "metadata": {},
   "source": [
    "### Read mode File is not Writable"
   ]
  },
  {
   "cell_type": "code",
   "execution_count": 66,
   "id": "9c965610",
   "metadata": {},
   "outputs": [
    {
     "ename": "UnsupportedOperation",
     "evalue": "not writable",
     "output_type": "error",
     "traceback": [
      "\u001b[1;31m---------------------------------------------------------------------------\u001b[0m",
      "\u001b[1;31mUnsupportedOperation\u001b[0m                      Traceback (most recent call last)",
      "\u001b[1;32m~\\AppData\\Local\\Temp\\ipykernel_22892\\992613507.py\u001b[0m in \u001b[0;36m<module>\u001b[1;34m\u001b[0m\n\u001b[1;32m----> 1\u001b[1;33m \u001b[0mnewfile\u001b[0m\u001b[1;33m.\u001b[0m\u001b[0mwrite\u001b[0m\u001b[1;33m(\u001b[0m\u001b[1;34m\"Trying to Write Text in File While its opened in Read Mode\"\u001b[0m\u001b[1;33m)\u001b[0m\u001b[1;33m\u001b[0m\u001b[1;33m\u001b[0m\u001b[0m\n\u001b[0m",
      "\u001b[1;31mUnsupportedOperation\u001b[0m: not writable"
     ]
    }
   ],
   "source": [
    "newfile.write(\"Trying to Write Text in File While its opened in Read Mode\")"
   ]
  },
  {
   "cell_type": "code",
   "execution_count": 67,
   "id": "f6be217a",
   "metadata": {},
   "outputs": [],
   "source": [
    "newfile.close()"
   ]
  },
  {
   "cell_type": "code",
   "execution_count": 68,
   "id": "4d19f6f0",
   "metadata": {},
   "outputs": [],
   "source": [
    "myfile = open('readAppend.txt',mode=\"a+\")"
   ]
  },
  {
   "cell_type": "code",
   "execution_count": 69,
   "id": "3f105c25",
   "metadata": {},
   "outputs": [
    {
     "data": {
      "text/plain": [
       "69"
      ]
     },
     "execution_count": 69,
     "metadata": {},
     "output_type": "execute_result"
    }
   ],
   "source": [
    "myfile.write('Another Line added to readAppend File Cause File is opened in a+ mode')"
   ]
  },
  {
   "cell_type": "code",
   "execution_count": 70,
   "id": "3e9453da",
   "metadata": {},
   "outputs": [
    {
     "data": {
      "text/plain": [
       "0"
      ]
     },
     "execution_count": 70,
     "metadata": {},
     "output_type": "execute_result"
    }
   ],
   "source": [
    "myfile.seek(0)"
   ]
  },
  {
   "cell_type": "code",
   "execution_count": 71,
   "id": "913751d0",
   "metadata": {},
   "outputs": [
    {
     "data": {
      "text/plain": [
       "'First Line in ReadAppend fileFirst Line in ReadAppend fileAnother Line added to readAppend File Cause File is opened in a+ mode\\nNew Line Text Added in a+ ModeFirst Line in ReadAppend fileAnother Line added to readAppend File Cause File is opened in a+ mode'"
      ]
     },
     "execution_count": 71,
     "metadata": {},
     "output_type": "execute_result"
    }
   ],
   "source": [
    "myfile.read()"
   ]
  },
  {
   "cell_type": "markdown",
   "id": "ddf3e939",
   "metadata": {},
   "source": [
    "### To Add New Line You must have to use \\n in before the Text that you are appending"
   ]
  },
  {
   "cell_type": "code",
   "execution_count": 72,
   "id": "292dc0e1",
   "metadata": {},
   "outputs": [
    {
     "data": {
      "text/plain": [
       "31"
      ]
     },
     "execution_count": 72,
     "metadata": {},
     "output_type": "execute_result"
    }
   ],
   "source": [
    "myfile.write('\\nNew Line Text Added in a+ Mode')"
   ]
  },
  {
   "cell_type": "code",
   "execution_count": 73,
   "id": "5c822801",
   "metadata": {},
   "outputs": [
    {
     "data": {
      "text/plain": [
       "0"
      ]
     },
     "execution_count": 73,
     "metadata": {},
     "output_type": "execute_result"
    }
   ],
   "source": [
    "myfile.seek(0)"
   ]
  },
  {
   "cell_type": "code",
   "execution_count": 74,
   "id": "7fa3856d",
   "metadata": {},
   "outputs": [
    {
     "data": {
      "text/plain": [
       "'First Line in ReadAppend fileFirst Line in ReadAppend fileAnother Line added to readAppend File Cause File is opened in a+ mode\\nNew Line Text Added in a+ ModeFirst Line in ReadAppend fileAnother Line added to readAppend File Cause File is opened in a+ mode\\nNew Line Text Added in a+ Mode'"
      ]
     },
     "execution_count": 74,
     "metadata": {},
     "output_type": "execute_result"
    }
   ],
   "source": [
    "myfile.read()"
   ]
  },
  {
   "cell_type": "code",
   "execution_count": 75,
   "id": "89a992ff",
   "metadata": {},
   "outputs": [],
   "source": [
    "myfile.close()"
   ]
  },
  {
   "cell_type": "code",
   "execution_count": 76,
   "id": "a2772634",
   "metadata": {},
   "outputs": [],
   "source": [
    "with open('ReadAppend.txt','r') as newfile:\n",
    "    lines = newfile.readlines()"
   ]
  },
  {
   "cell_type": "code",
   "execution_count": 77,
   "id": "e02b009a",
   "metadata": {},
   "outputs": [
    {
     "data": {
      "text/plain": [
       "['First Line in ReadAppend fileFirst Line in ReadAppend fileAnother Line added to readAppend File Cause File is opened in a+ mode\\n',\n",
       " 'New Line Text Added in a+ ModeFirst Line in ReadAppend fileAnother Line added to readAppend File Cause File is opened in a+ mode\\n',\n",
       " 'New Line Text Added in a+ Mode']"
      ]
     },
     "execution_count": 77,
     "metadata": {},
     "output_type": "execute_result"
    }
   ],
   "source": [
    "lines"
   ]
  },
  {
   "cell_type": "markdown",
   "id": "e8420810",
   "metadata": {},
   "source": [
    "## Working With PDFs"
   ]
  },
  {
   "cell_type": "markdown",
   "id": "169f937b",
   "metadata": {},
   "source": [
    "### pyPDF2 Installation (Do Installation if your Envirment Already don't have this library"
   ]
  },
  {
   "cell_type": "code",
   "execution_count": 78,
   "id": "dc7e88eb",
   "metadata": {},
   "outputs": [
    {
     "name": "stdout",
     "output_type": "stream",
     "text": [
      "Requirement already satisfied: PyPDF2 in c:\\anaconda3\\envs\\nlp\\lib\\site-packages (3.0.1)\n",
      "Requirement already satisfied: typing_extensions>=3.10.0.0; python_version < \"3.10\" in c:\\anaconda3\\envs\\nlp\\lib\\site-packages (from PyPDF2) (4.4.0)\n",
      "Note: you may need to restart the kernel to use updated packages.\n"
     ]
    }
   ],
   "source": [
    "pip install PyPDF2"
   ]
  },
  {
   "cell_type": "code",
   "execution_count": 79,
   "id": "7b80908f",
   "metadata": {},
   "outputs": [],
   "source": [
    "import PyPDF2"
   ]
  },
  {
   "cell_type": "markdown",
   "id": "68780340",
   "metadata": {},
   "source": [
    "If import Showing Error then try Reopening the Environment in Terminal Clossing the current Session or Try to Install from Terminal"
   ]
  },
  {
   "cell_type": "code",
   "execution_count": 80,
   "id": "178654ed",
   "metadata": {},
   "outputs": [],
   "source": [
    "myfile = open('The_Declaration_of_Independence_1776.pdf',mode='rb')"
   ]
  },
  {
   "cell_type": "code",
   "execution_count": 81,
   "id": "e0941b72",
   "metadata": {},
   "outputs": [
    {
     "data": {
      "text/plain": [
       "'D:\\\\RUMAN\\\\Code\\\\AI ML\\\\nlp'"
      ]
     },
     "execution_count": 81,
     "metadata": {},
     "output_type": "execute_result"
    }
   ],
   "source": [
    "pwd"
   ]
  },
  {
   "cell_type": "code",
   "execution_count": 82,
   "id": "46b489f6",
   "metadata": {},
   "outputs": [
    {
     "name": "stdout",
     "output_type": "stream",
     "text": [
      "Requirement already up-to-date: PyPDF2 in c:\\anaconda3\\envs\\nlp\\lib\\site-packages (3.0.1)\n",
      "Requirement already satisfied, skipping upgrade: typing_extensions>=3.10.0.0; python_version < \"3.10\" in c:\\anaconda3\\envs\\nlp\\lib\\site-packages (from PyPDF2) (4.4.0)\n",
      "Note: you may need to restart the kernel to use updated packages.\n"
     ]
    }
   ],
   "source": [
    "pip install --upgrade PyPDF2"
   ]
  },
  {
   "cell_type": "markdown",
   "id": "9bbf03a3",
   "metadata": {},
   "source": [
    "### Incase of Package Deprecation Error You must have to use the updated Object"
   ]
  },
  {
   "cell_type": "code",
   "execution_count": 83,
   "id": "f0b600c0",
   "metadata": {},
   "outputs": [],
   "source": [
    "from PyPDF2 import PdfReader\n",
    "pdf_reader = PdfReader(myfile)"
   ]
  },
  {
   "cell_type": "markdown",
   "id": "cbfe8702",
   "metadata": {},
   "source": [
    "### Accessing Number of Pages and Specific Page"
   ]
  },
  {
   "cell_type": "code",
   "execution_count": 84,
   "id": "ef672c10",
   "metadata": {},
   "outputs": [],
   "source": [
    "pages = len(pdf_reader.pages) #Get Total Number of Pages"
   ]
  },
  {
   "cell_type": "code",
   "execution_count": 85,
   "id": "48f8b0e8",
   "metadata": {},
   "outputs": [
    {
     "data": {
      "text/plain": [
       "3"
      ]
     },
     "execution_count": 85,
     "metadata": {},
     "output_type": "execute_result"
    }
   ],
   "source": [
    "pages"
   ]
  },
  {
   "cell_type": "code",
   "execution_count": 86,
   "id": "6e679cec",
   "metadata": {},
   "outputs": [],
   "source": [
    "firstPage = pdf_reader.pages[0]"
   ]
  },
  {
   "cell_type": "code",
   "execution_count": 87,
   "id": "217c3b8b",
   "metadata": {},
   "outputs": [
    {
     "data": {
      "text/plain": [
       "{'/Type': '/Page',\n",
       " '/MediaBox': [0, 0, 612, 792],\n",
       " '/Rotate': 0,\n",
       " '/Parent': {'/Type': '/Pages',\n",
       "  '/Kids': [IndirectObject(4, 0, 3001497292488),\n",
       "   IndirectObject(15, 0, 3001497292488),\n",
       "   IndirectObject(19, 0, 3001497292488)],\n",
       "  '/Count': 3,\n",
       "  '/Rotate': 0},\n",
       " '/Resources': {'/ProcSet': ['/PDF', '/Text'],\n",
       "  '/Font': {'/R8': {'/BaseFont': '/TDGCJA+MIonic',\n",
       "    '/FontDescriptor': {'/Type': '/FontDescriptor',\n",
       "     '/FontName': '/TDGCJA+MIonic',\n",
       "     '/FontBBox': [-8, -154, 1007, 714],\n",
       "     '/Flags': 4,\n",
       "     '/Ascent': 714,\n",
       "     '/CapHeight': 714,\n",
       "     '/Descent': -154,\n",
       "     '/ItalicAngle': 0,\n",
       "     '/StemV': 151,\n",
       "     '/MissingWidth': 333,\n",
       "     '/CharSet': '/four/L/A/y/n/c/X/five/M/B/z/o/d/Y/six/N/C/p/e/seven/O/D/q/f/eight/P/E/r/g/F/s/h/colon/R/G/t/i/quoteleft/semicolon/S/H/u/j/T/I/emdash/v/k/U/J/w/l/a/V/K/x/m/b/W/space/comma/hyphen/period/zero/one/ampersand/two/quoteright',\n",
       "     '/FontFile3': {'/Subtype': '/Type1C', '/Filter': '/FlateDecode'}},\n",
       "    '/Type': '/Font',\n",
       "    '/FirstChar': 32,\n",
       "    '/LastChar': 208,\n",
       "    '/Widths': [333,\n",
       "     0,\n",
       "     0,\n",
       "     0,\n",
       "     0,\n",
       "     0,\n",
       "     833,\n",
       "     333,\n",
       "     0,\n",
       "     0,\n",
       "     0,\n",
       "     0,\n",
       "     333,\n",
       "     396,\n",
       "     333,\n",
       "     0,\n",
       "     500,\n",
       "     500,\n",
       "     500,\n",
       "     0,\n",
       "     500,\n",
       "     500,\n",
       "     498,\n",
       "     500,\n",
       "     500,\n",
       "     0,\n",
       "     333,\n",
       "     333,\n",
       "     0,\n",
       "     0,\n",
       "     0,\n",
       "     0,\n",
       "     0,\n",
       "     833,\n",
       "     781,\n",
       "     729,\n",
       "     833,\n",
       "     781,\n",
       "     781,\n",
       "     833,\n",
       "     833,\n",
       "     448,\n",
       "     667,\n",
       "     833,\n",
       "     781,\n",
       "     1010,\n",
       "     833,\n",
       "     781,\n",
       "     781,\n",
       "     0,\n",
       "     832,\n",
       "     729,\n",
       "     781,\n",
       "     833,\n",
       "     833,\n",
       "     1010,\n",
       "     833,\n",
       "     833,\n",
       "     0,\n",
       "     0,\n",
       "     0,\n",
       "     0,\n",
       "     0,\n",
       "     0,\n",
       "     333,\n",
       "     615,\n",
       "     615,\n",
       "     563,\n",
       "     615,\n",
       "     563,\n",
       "     396,\n",
       "     615,\n",
       "     667,\n",
       "     396,\n",
       "     396,\n",
       "     729,\n",
       "     396,\n",
       "     1010,\n",
       "     667,\n",
       "     615,\n",
       "     615,\n",
       "     615,\n",
       "     500,\n",
       "     500,\n",
       "     500,\n",
       "     667,\n",
       "     615,\n",
       "     833,\n",
       "     615,\n",
       "     667,\n",
       "     500,\n",
       "     0,\n",
       "     0,\n",
       "     0,\n",
       "     0,\n",
       "     0,\n",
       "     0,\n",
       "     0,\n",
       "     0,\n",
       "     0,\n",
       "     0,\n",
       "     0,\n",
       "     0,\n",
       "     0,\n",
       "     0,\n",
       "     0,\n",
       "     0,\n",
       "     0,\n",
       "     0,\n",
       "     0,\n",
       "     0,\n",
       "     0,\n",
       "     0,\n",
       "     0,\n",
       "     0,\n",
       "     0,\n",
       "     0,\n",
       "     0,\n",
       "     0,\n",
       "     0,\n",
       "     0,\n",
       "     0,\n",
       "     0,\n",
       "     0,\n",
       "     0,\n",
       "     0,\n",
       "     0,\n",
       "     0,\n",
       "     0,\n",
       "     0,\n",
       "     0,\n",
       "     0,\n",
       "     0,\n",
       "     0,\n",
       "     0,\n",
       "     0,\n",
       "     0,\n",
       "     0,\n",
       "     0,\n",
       "     0,\n",
       "     0,\n",
       "     0,\n",
       "     0,\n",
       "     0,\n",
       "     0,\n",
       "     0,\n",
       "     0,\n",
       "     0,\n",
       "     0,\n",
       "     0,\n",
       "     0,\n",
       "     0,\n",
       "     0,\n",
       "     0,\n",
       "     0,\n",
       "     0,\n",
       "     0,\n",
       "     0,\n",
       "     0,\n",
       "     0,\n",
       "     0,\n",
       "     0,\n",
       "     0,\n",
       "     0,\n",
       "     0,\n",
       "     0,\n",
       "     0,\n",
       "     0,\n",
       "     0,\n",
       "     0,\n",
       "     0,\n",
       "     0,\n",
       "     0,\n",
       "     0,\n",
       "     0,\n",
       "     0,\n",
       "     1000],\n",
       "    '/Encoding': {'/Type': '/Encoding',\n",
       "     '/BaseEncoding': '/WinAnsiEncoding',\n",
       "     '/Differences': [39, '/quoteright', 96, '/quoteleft', 208, '/emdash']},\n",
       "    '/Subtype': '/Type1'},\n",
       "   '/R10': {'/BaseFont': '/KPTPGI+MIonic-Italic',\n",
       "    '/FontDescriptor': {'/Type': '/FontDescriptor',\n",
       "     '/FontName': '/KPTPGI+MIonic-Italic',\n",
       "     '/FontBBox': [-38, -153, 1055, 716],\n",
       "     '/Flags': 4,\n",
       "     '/Ascent': 716,\n",
       "     '/CapHeight': 716,\n",
       "     '/Descent': -153,\n",
       "     '/ItalicAngle': 0,\n",
       "     '/StemV': 158,\n",
       "     '/MissingWidth': 333,\n",
       "     '/CharSet': '/A/y/n/c/M/B/o/d/Y/N/C/p/e/D/f/P/r/g/s/h/R/G/t/i/S/H/u/T/I/v/k/J/w/l/a/V/m/space',\n",
       "     '/FontFile3': {'/Subtype': '/Type1C', '/Filter': '/FlateDecode'}},\n",
       "    '/Type': '/Font',\n",
       "    '/FirstChar': 32,\n",
       "    '/LastChar': 121,\n",
       "    '/Widths': [333,\n",
       "     0,\n",
       "     0,\n",
       "     0,\n",
       "     0,\n",
       "     0,\n",
       "     0,\n",
       "     0,\n",
       "     0,\n",
       "     0,\n",
       "     0,\n",
       "     0,\n",
       "     0,\n",
       "     0,\n",
       "     0,\n",
       "     0,\n",
       "     0,\n",
       "     0,\n",
       "     0,\n",
       "     0,\n",
       "     0,\n",
       "     0,\n",
       "     0,\n",
       "     0,\n",
       "     0,\n",
       "     0,\n",
       "     0,\n",
       "     0,\n",
       "     0,\n",
       "     0,\n",
       "     0,\n",
       "     0,\n",
       "     0,\n",
       "     781,\n",
       "     781,\n",
       "     729,\n",
       "     833,\n",
       "     0,\n",
       "     0,\n",
       "     781,\n",
       "     833,\n",
       "     448,\n",
       "     500,\n",
       "     0,\n",
       "     0,\n",
       "     1010,\n",
       "     781,\n",
       "     0,\n",
       "     729,\n",
       "     0,\n",
       "     781,\n",
       "     615,\n",
       "     729,\n",
       "     0,\n",
       "     781,\n",
       "     0,\n",
       "     0,\n",
       "     781,\n",
       "     0,\n",
       "     0,\n",
       "     0,\n",
       "     0,\n",
       "     0,\n",
       "     0,\n",
       "     0,\n",
       "     615,\n",
       "     0,\n",
       "     500,\n",
       "     615,\n",
       "     500,\n",
       "     396,\n",
       "     563,\n",
       "     667,\n",
       "     333,\n",
       "     0,\n",
       "     615,\n",
       "     333,\n",
       "     833,\n",
       "     667,\n",
       "     563,\n",
       "     615,\n",
       "     0,\n",
       "     448,\n",
       "     448,\n",
       "     396,\n",
       "     667,\n",
       "     563,\n",
       "     833,\n",
       "     0,\n",
       "     615],\n",
       "    '/Encoding': '/WinAnsiEncoding',\n",
       "    '/Subtype': '/Type1'},\n",
       "   '/R12': {'/BaseFont': '/CUJUMA+NewCenturySchlbk-Bold',\n",
       "    '/FontDescriptor': {'/Type': '/FontDescriptor',\n",
       "     '/FontName': '/CUJUMA+NewCenturySchlbk-Bold',\n",
       "     '/FontBBox': [-18, -15, 1000, 737],\n",
       "     '/Flags': 4,\n",
       "     '/Ascent': 737,\n",
       "     '/CapHeight': 737,\n",
       "     '/Descent': -15,\n",
       "     '/ItalicAngle': 0,\n",
       "     '/StemV': 150,\n",
       "     '/MissingWidth': 287,\n",
       "     '/CharSet': '/L/A/six/N/C/seven/O/D/P/E/F/R/H/T/I/emdash/space/one',\n",
       "     '/FontFile3': {'/Subtype': '/Type1C', '/Filter': '/FlateDecode'}},\n",
       "    '/Type': '/Font',\n",
       "    '/FirstChar': 32,\n",
       "    '/LastChar': 208,\n",
       "    '/Widths': [287,\n",
       "     0,\n",
       "     0,\n",
       "     0,\n",
       "     0,\n",
       "     0,\n",
       "     0,\n",
       "     0,\n",
       "     0,\n",
       "     0,\n",
       "     0,\n",
       "     0,\n",
       "     0,\n",
       "     0,\n",
       "     0,\n",
       "     0,\n",
       "     0,\n",
       "     574,\n",
       "     0,\n",
       "     0,\n",
       "     0,\n",
       "     0,\n",
       "     574,\n",
       "     574,\n",
       "     0,\n",
       "     0,\n",
       "     0,\n",
       "     0,\n",
       "     0,\n",
       "     0,\n",
       "     0,\n",
       "     0,\n",
       "     0,\n",
       "     759,\n",
       "     0,\n",
       "     778,\n",
       "     833,\n",
       "     759,\n",
       "     722,\n",
       "     0,\n",
       "     870,\n",
       "     444,\n",
       "     0,\n",
       "     0,\n",
       "     722,\n",
       "     0,\n",
       "     833,\n",
       "     833,\n",
       "     759,\n",
       "     0,\n",
       "     815,\n",
       "     0,\n",
       "     722,\n",
       "     0,\n",
       "     0,\n",
       "     0,\n",
       "     0,\n",
       "     0,\n",
       "     0,\n",
       "     0,\n",
       "     0,\n",
       "     0,\n",
       "     0,\n",
       "     0,\n",
       "     0,\n",
       "     0,\n",
       "     0,\n",
       "     0,\n",
       "     0,\n",
       "     0,\n",
       "     0,\n",
       "     0,\n",
       "     0,\n",
       "     0,\n",
       "     0,\n",
       "     0,\n",
       "     0,\n",
       "     0,\n",
       "     0,\n",
       "     0,\n",
       "     0,\n",
       "     0,\n",
       "     0,\n",
       "     0,\n",
       "     0,\n",
       "     0,\n",
       "     0,\n",
       "     0,\n",
       "     0,\n",
       "     0,\n",
       "     0,\n",
       "     0,\n",
       "     0,\n",
       "     0,\n",
       "     0,\n",
       "     0,\n",
       "     0,\n",
       "     0,\n",
       "     0,\n",
       "     0,\n",
       "     0,\n",
       "     0,\n",
       "     0,\n",
       "     0,\n",
       "     0,\n",
       "     0,\n",
       "     0,\n",
       "     0,\n",
       "     0,\n",
       "     0,\n",
       "     0,\n",
       "     0,\n",
       "     0,\n",
       "     0,\n",
       "     0,\n",
       "     0,\n",
       "     0,\n",
       "     0,\n",
       "     0,\n",
       "     0,\n",
       "     0,\n",
       "     0,\n",
       "     0,\n",
       "     0,\n",
       "     0,\n",
       "     0,\n",
       "     0,\n",
       "     0,\n",
       "     0,\n",
       "     0,\n",
       "     0,\n",
       "     0,\n",
       "     0,\n",
       "     0,\n",
       "     0,\n",
       "     0,\n",
       "     0,\n",
       "     0,\n",
       "     0,\n",
       "     0,\n",
       "     0,\n",
       "     0,\n",
       "     0,\n",
       "     0,\n",
       "     0,\n",
       "     0,\n",
       "     0,\n",
       "     0,\n",
       "     0,\n",
       "     0,\n",
       "     0,\n",
       "     0,\n",
       "     0,\n",
       "     0,\n",
       "     0,\n",
       "     0,\n",
       "     0,\n",
       "     0,\n",
       "     0,\n",
       "     0,\n",
       "     0,\n",
       "     0,\n",
       "     0,\n",
       "     0,\n",
       "     0,\n",
       "     0,\n",
       "     0,\n",
       "     0,\n",
       "     0,\n",
       "     0,\n",
       "     0,\n",
       "     0,\n",
       "     0,\n",
       "     0,\n",
       "     0,\n",
       "     0,\n",
       "     1000],\n",
       "    '/Encoding': {'/Type': '/Encoding',\n",
       "     '/BaseEncoding': '/WinAnsiEncoding',\n",
       "     '/Differences': [208, '/emdash']},\n",
       "    '/Subtype': '/Type1'},\n",
       "   '/R13': {'/BaseFont': '/Helvetica',\n",
       "    '/Type': '/Font',\n",
       "    '/Subtype': '/Type1'}}},\n",
       " '/Contents': {'/Filter': '/FlateDecode'}}"
      ]
     },
     "execution_count": 87,
     "metadata": {},
     "output_type": "execute_result"
    }
   ],
   "source": [
    "firstPage"
   ]
  },
  {
   "cell_type": "code",
   "execution_count": 88,
   "id": "1d4a5fbf",
   "metadata": {},
   "outputs": [
    {
     "data": {
      "text/plain": [
       "'Page XLV 1The delegates of the United Colonies of New Hampshire; Mas -\\nsachusetts Bay; Rhode Island and Providence Plantations; Con -\\nnecticut; New York; New Jersey; Pennsylvania; New Castle,  \\nKent, and Sussex, in Delaware; Maryland; Virginia; North Caro -\\nlina, and South Carolina, In Congress assembled at Philadelphia,  \\nResolved on the 10th of May, 1776, to recommend to the respec -\\ntive assemblies and conventions of the United Colonies, where no  \\ngovernment sufficient to the exigencies of their affairs had been  \\nestablished, to adopt such a government as should, in the opin -\\nion of the representatives of the people, best conduce to the hap -\\npiness and safety of their constituents in particular, and of  \\nAmerica in general. A preamble to this resolution, agreed to on  \\nthe 15th of May, stated the intention to be totally to suppress  \\nthe exercise of every kind of authority under the British crown.  \\nOn the 7th of June, certain resolutions respecting independency  \\nwere moved and seconded. On the 10th of June it was resolved,  \\nthat a committee should be appointed to prepare a declaration  \\nto the following effect: ‘‘That the United Colonies are, and of  \\nright ought to be, free and independent States; that they are ab -\\nsolved from all allegiance to the British crown; and that all po -\\nlitical connection between them and the State of Great Britain  \\nis, and ought to be, totally dissolved.’’ On the preceding day it  \\nwas determined that the committee for preparing the declara -\\ntion should consist of five, and they were chosen accordingly, in  \\nthe following order: Mr. Jefferson, Mr. J. Adams, Mr. Franklin,  \\nMr. Sherman, Mr. R. R. Livingston. On the 11th of June a resolu -\\ntion was passed to appoint a committee to prepare and digest  \\nthe form of a confederation to be entered into between the colo -\\nnies, and another committee to prepare a plan of treaties to be  \\nproposed to foreign powers. On the 12th of June, it was resolved,  \\nthat a committee of Congress should be appointed by the name  \\nof a board of war and ordnance, to consist of five members. On  \\nthe 25th of June, a declaration of the deputies of Pennsylvania,  \\nmet in provincial conference, expressing their willingness to  \\nconcur in a vote declaring the United Colonies free and inde -\\npendent States, was laid before Congress and read. On the 28th  \\nof June, the committee appointed to prepare a declaration of  \\nindependence brought in a draught, which was read, and ordered  \\nto lie on the table. On the 1st of July, a resolution of the conven -\\ntion of Maryland, passed the 28th of June, authorizing the depu -\\nties of that colony to concur in declaring the United Colonies  \\nfree and independent States, was laid before Congress and read.  \\nOn the same day Congress resolved itself into a committee of the  \\nwhole, to take into consideration the resolution respecting inde -\\npendency. On the 2d of July, a resolution declaring the colonies  \\nfree and independent States, was adopted. A declaration to that  \\neffect was, on the same and the following days, taken into fur -\\nther consideration. Finally, on the 4th of July, the Declaration  \\nof Independence was agreed to, engrossed on paper, signed by  \\nJohn Hancock as president, and directed to be sent to the sev -\\neral assemblies, conventions, and committees, or councils of  \\nsafety, and to the several commanding officers of the continen -\\ntal troops, and to be proclaimed in each of the United States,  \\nand at the head of the Army. It was also ordered to be entered  \\nupon the Journals of Congress, and on the 2d of August, a copy  \\nengrossed on parchment was signed by all but one of the fifty-  \\nsix signers whose names are appended to it. That one was Mat -\\nthew Thornton, of New Hampshire, who on taking his seat in No -\\nvember asked and obtained the privilege of signing it. Several  \\nwho signed it on the 2d of August were absent when it was adopt -ed on the 4th of July, but, approving of it, they thus signified  \\ntheir approbation.  \\nNOTE.—The proof of this document, as published above, was  \\nread by Mr. Ferdinand Jefferson, the Keeper of the Rolls at the  \\nDepartment of State, at Washington, who compared it with the  \\nfac-simile of the original in his custody. He says: ‘‘In the fac-  \\nsimile, as in the original, the whole instrument runs on without  \\na break, but dashes are mostly inserted. I have, in this copy, fol -\\nlowed the arrangement of paragraphs adopted in the publication  \\nof the Declaration in the newspaper of John Dunlap, and as  \\nprinted by him for the Congress, which printed copy is inserted  \\nin the original Journal of the old Congress. The same paragraphs  \\nare also made by the author, in the original draught preserved  \\nin the Department of State.’’  THE DECLARATION OF INDEPENDENCE—17761 \\nINCONGRESS , JULY4, 1776  \\nThe unanimous Declaration of the thirteen united  \\nStates of America  \\nWHEN in the Course of human events, it be -\\ncomes necessary for one people to dissolve the  \\npolitical bands which have connected them with  \\nanother, and to assume among the powers of the  \\nearth, the separate and equal station to which  \\nthe Laws of Nature and of Nature’s God entitle  \\nthem, a decent respect to the opinions of man -\\nkind requires that they should declare the  \\ncauses which impel them to the separation.  We hold these truths to be self-evident, that  \\nall men are created equal, that they are en -\\ndowed by their Creator with certain unalienable  \\nRights, that among these are Life, Liberty and  \\nthe pursuit of Happiness. That to secure these  \\nrights, Governments are instituted among Men,  \\nderiving their just powers from the consent of  \\nthe governed,—That whenever any Form of Gov -\\nernment becomes destructive of these ends, it is  \\nthe Right of the People to alter or to abolish it,  \\nand to institute new Government, laying its  \\nfoundation on such principles and organizing its  \\npowers in such form, as to them shall seem most  \\nlikely to effect their Safety and Happiness. Pru -\\ndence, indeed, will dictate that Governments  \\nlong established should not be changed for light  \\nand transient causes; and accordingly all experi -\\nence hath shewn, that mankind are more dis -\\nposed to suffer, while evils are sufferable, than  \\nto right themselves by abolishing the forms to  \\nwhich they are accustomed. But when a long  \\ntrain of abuses and usurpations, pursuing invari -\\nably the same Object evinces a design to reduce  \\nthem under absolute Despotism, it is their right,  \\nit is their duty, to throw off such Government,  \\nand to provide new Guards for their future secu -\\nrity.—Such has been the patient sufferance of  \\nthese Colonies; and such is now the necessity  \\nwhich constrains them to alter their former  \\nSystems of Government. The history of the  \\npresent King of Great Britain is a history of re -\\npeated injuries and usurpations, all having in di -\\nrect object the establishment of an absolute  \\nTyranny over these States. To prove this, let  \\nFacts be submitted to a candid world.  \\nHe has refused his Assent to Laws, the most  \\nwholesome and necessary for the public good.  \\nHe has forbidden his Governors to pass Laws of  \\nimmediate and pressing importance, unless sus -\\npended in their operation till his Assent should  \\nbe obtained; and when so suspended, he has ut -\\nterly neglected to attend to them.  \\nHe has refused to pass other Laws for the ac -\\ncommodation of large districts of people, unless  \\nthose people would relinquish the right of Rep -\\nresentation in the Legislature, a right inestima -\\nble to them and formidable to tyrants only.  \\nHe has called together legislative bodies at  \\nplaces unusual, uncomfortable, and distance  \\nVerDate Aug 31 2005 08:33 Feb 15, 2008 Jkt 040101 PO 00000 Frm 00001 Fmt 5820 Sfmt 5820 Y:\\\\TS\\\\2006MAIN\\\\2006V1.MN\\\\V1PRE4.MN BOB'"
      ]
     },
     "execution_count": 88,
     "metadata": {},
     "output_type": "execute_result"
    }
   ],
   "source": [
    "firstPage.extract_text()"
   ]
  },
  {
   "cell_type": "markdown",
   "id": "2af56129",
   "metadata": {},
   "source": [
    "### Another Approach Similar Just Difference in Usage"
   ]
  },
  {
   "cell_type": "code",
   "execution_count": 89,
   "id": "8f712fe8",
   "metadata": {},
   "outputs": [],
   "source": [
    "text = pdf_reader.pages[0].extract_text()  # Extracts text from the first page"
   ]
  },
  {
   "cell_type": "code",
   "execution_count": 90,
   "id": "ba9f5398",
   "metadata": {},
   "outputs": [
    {
     "data": {
      "text/plain": [
       "'Page XLV 1The delegates of the United Colonies of New Hampshire; Mas -\\nsachusetts Bay; Rhode Island and Providence Plantations; Con -\\nnecticut; New York; New Jersey; Pennsylvania; New Castle,  \\nKent, and Sussex, in Delaware; Maryland; Virginia; North Caro -\\nlina, and South Carolina, In Congress assembled at Philadelphia,  \\nResolved on the 10th of May, 1776, to recommend to the respec -\\ntive assemblies and conventions of the United Colonies, where no  \\ngovernment sufficient to the exigencies of their affairs had been  \\nestablished, to adopt such a government as should, in the opin -\\nion of the representatives of the people, best conduce to the hap -\\npiness and safety of their constituents in particular, and of  \\nAmerica in general. A preamble to this resolution, agreed to on  \\nthe 15th of May, stated the intention to be totally to suppress  \\nthe exercise of every kind of authority under the British crown.  \\nOn the 7th of June, certain resolutions respecting independency  \\nwere moved and seconded. On the 10th of June it was resolved,  \\nthat a committee should be appointed to prepare a declaration  \\nto the following effect: ‘‘That the United Colonies are, and of  \\nright ought to be, free and independent States; that they are ab -\\nsolved from all allegiance to the British crown; and that all po -\\nlitical connection between them and the State of Great Britain  \\nis, and ought to be, totally dissolved.’’ On the preceding day it  \\nwas determined that the committee for preparing the declara -\\ntion should consist of five, and they were chosen accordingly, in  \\nthe following order: Mr. Jefferson, Mr. J. Adams, Mr. Franklin,  \\nMr. Sherman, Mr. R. R. Livingston. On the 11th of June a resolu -\\ntion was passed to appoint a committee to prepare and digest  \\nthe form of a confederation to be entered into between the colo -\\nnies, and another committee to prepare a plan of treaties to be  \\nproposed to foreign powers. On the 12th of June, it was resolved,  \\nthat a committee of Congress should be appointed by the name  \\nof a board of war and ordnance, to consist of five members. On  \\nthe 25th of June, a declaration of the deputies of Pennsylvania,  \\nmet in provincial conference, expressing their willingness to  \\nconcur in a vote declaring the United Colonies free and inde -\\npendent States, was laid before Congress and read. On the 28th  \\nof June, the committee appointed to prepare a declaration of  \\nindependence brought in a draught, which was read, and ordered  \\nto lie on the table. On the 1st of July, a resolution of the conven -\\ntion of Maryland, passed the 28th of June, authorizing the depu -\\nties of that colony to concur in declaring the United Colonies  \\nfree and independent States, was laid before Congress and read.  \\nOn the same day Congress resolved itself into a committee of the  \\nwhole, to take into consideration the resolution respecting inde -\\npendency. On the 2d of July, a resolution declaring the colonies  \\nfree and independent States, was adopted. A declaration to that  \\neffect was, on the same and the following days, taken into fur -\\nther consideration. Finally, on the 4th of July, the Declaration  \\nof Independence was agreed to, engrossed on paper, signed by  \\nJohn Hancock as president, and directed to be sent to the sev -\\neral assemblies, conventions, and committees, or councils of  \\nsafety, and to the several commanding officers of the continen -\\ntal troops, and to be proclaimed in each of the United States,  \\nand at the head of the Army. It was also ordered to be entered  \\nupon the Journals of Congress, and on the 2d of August, a copy  \\nengrossed on parchment was signed by all but one of the fifty-  \\nsix signers whose names are appended to it. That one was Mat -\\nthew Thornton, of New Hampshire, who on taking his seat in No -\\nvember asked and obtained the privilege of signing it. Several  \\nwho signed it on the 2d of August were absent when it was adopt -ed on the 4th of July, but, approving of it, they thus signified  \\ntheir approbation.  \\nNOTE.—The proof of this document, as published above, was  \\nread by Mr. Ferdinand Jefferson, the Keeper of the Rolls at the  \\nDepartment of State, at Washington, who compared it with the  \\nfac-simile of the original in his custody. He says: ‘‘In the fac-  \\nsimile, as in the original, the whole instrument runs on without  \\na break, but dashes are mostly inserted. I have, in this copy, fol -\\nlowed the arrangement of paragraphs adopted in the publication  \\nof the Declaration in the newspaper of John Dunlap, and as  \\nprinted by him for the Congress, which printed copy is inserted  \\nin the original Journal of the old Congress. The same paragraphs  \\nare also made by the author, in the original draught preserved  \\nin the Department of State.’’  THE DECLARATION OF INDEPENDENCE—17761 \\nINCONGRESS , JULY4, 1776  \\nThe unanimous Declaration of the thirteen united  \\nStates of America  \\nWHEN in the Course of human events, it be -\\ncomes necessary for one people to dissolve the  \\npolitical bands which have connected them with  \\nanother, and to assume among the powers of the  \\nearth, the separate and equal station to which  \\nthe Laws of Nature and of Nature’s God entitle  \\nthem, a decent respect to the opinions of man -\\nkind requires that they should declare the  \\ncauses which impel them to the separation.  We hold these truths to be self-evident, that  \\nall men are created equal, that they are en -\\ndowed by their Creator with certain unalienable  \\nRights, that among these are Life, Liberty and  \\nthe pursuit of Happiness. That to secure these  \\nrights, Governments are instituted among Men,  \\nderiving their just powers from the consent of  \\nthe governed,—That whenever any Form of Gov -\\nernment becomes destructive of these ends, it is  \\nthe Right of the People to alter or to abolish it,  \\nand to institute new Government, laying its  \\nfoundation on such principles and organizing its  \\npowers in such form, as to them shall seem most  \\nlikely to effect their Safety and Happiness. Pru -\\ndence, indeed, will dictate that Governments  \\nlong established should not be changed for light  \\nand transient causes; and accordingly all experi -\\nence hath shewn, that mankind are more dis -\\nposed to suffer, while evils are sufferable, than  \\nto right themselves by abolishing the forms to  \\nwhich they are accustomed. But when a long  \\ntrain of abuses and usurpations, pursuing invari -\\nably the same Object evinces a design to reduce  \\nthem under absolute Despotism, it is their right,  \\nit is their duty, to throw off such Government,  \\nand to provide new Guards for their future secu -\\nrity.—Such has been the patient sufferance of  \\nthese Colonies; and such is now the necessity  \\nwhich constrains them to alter their former  \\nSystems of Government. The history of the  \\npresent King of Great Britain is a history of re -\\npeated injuries and usurpations, all having in di -\\nrect object the establishment of an absolute  \\nTyranny over these States. To prove this, let  \\nFacts be submitted to a candid world.  \\nHe has refused his Assent to Laws, the most  \\nwholesome and necessary for the public good.  \\nHe has forbidden his Governors to pass Laws of  \\nimmediate and pressing importance, unless sus -\\npended in their operation till his Assent should  \\nbe obtained; and when so suspended, he has ut -\\nterly neglected to attend to them.  \\nHe has refused to pass other Laws for the ac -\\ncommodation of large districts of people, unless  \\nthose people would relinquish the right of Rep -\\nresentation in the Legislature, a right inestima -\\nble to them and formidable to tyrants only.  \\nHe has called together legislative bodies at  \\nplaces unusual, uncomfortable, and distance  \\nVerDate Aug 31 2005 08:33 Feb 15, 2008 Jkt 040101 PO 00000 Frm 00001 Fmt 5820 Sfmt 5820 Y:\\\\TS\\\\2006MAIN\\\\2006V1.MN\\\\V1PRE4.MN BOB'"
      ]
     },
     "execution_count": 90,
     "metadata": {},
     "output_type": "execute_result"
    }
   ],
   "source": [
    "text"
   ]
  },
  {
   "cell_type": "code",
   "execution_count": 91,
   "id": "7d1841ca",
   "metadata": {},
   "outputs": [],
   "source": [
    "myfile.close()"
   ]
  },
  {
   "cell_type": "markdown",
   "id": "263ae329",
   "metadata": {},
   "source": [
    "## Creating Another Pdf Using The Exisitng PDF Contents in First Page"
   ]
  },
  {
   "cell_type": "code",
   "execution_count": 92,
   "id": "c3251c32",
   "metadata": {},
   "outputs": [],
   "source": [
    "myfile = open('The_Declaration_of_Independence_1776.pdf',mode='rb') #Reading Binary Mode"
   ]
  },
  {
   "cell_type": "code",
   "execution_count": 93,
   "id": "e3422790",
   "metadata": {},
   "outputs": [
    {
     "data": {
      "text/plain": [
       "<_io.BufferedReader name='The_Declaration_of_Independence_1776.pdf'>"
      ]
     },
     "execution_count": 93,
     "metadata": {},
     "output_type": "execute_result"
    }
   ],
   "source": [
    "myfile"
   ]
  },
  {
   "cell_type": "code",
   "execution_count": 94,
   "id": "330e311e",
   "metadata": {},
   "outputs": [],
   "source": [
    "pdf_reader = PdfReader(myfile) #Reading Full PDF"
   ]
  },
  {
   "cell_type": "code",
   "execution_count": 95,
   "id": "eb917c62",
   "metadata": {},
   "outputs": [],
   "source": [
    "first_page = pdf_reader.pages[0] # Reading First Page from the Full PDF"
   ]
  },
  {
   "cell_type": "code",
   "execution_count": 96,
   "id": "c32b41fd",
   "metadata": {},
   "outputs": [],
   "source": [
    "pdf_writer = PyPDF2.PdfWriter()  # Create a PdfWriter object to write the new PDF"
   ]
  },
  {
   "cell_type": "code",
   "execution_count": 97,
   "id": "09df08e3",
   "metadata": {},
   "outputs": [
    {
     "data": {
      "text/plain": [
       "{'/Type': '/Page',\n",
       " '/MediaBox': [0, 0, 612, 792],\n",
       " '/Rotate': 0,\n",
       " '/Resources': {'/ProcSet': ['/PDF', '/Text'],\n",
       "  '/Font': {'/R8': {'/BaseFont': '/TDGCJA+MIonic',\n",
       "    '/FontDescriptor': {'/Type': '/FontDescriptor',\n",
       "     '/FontName': '/TDGCJA+MIonic',\n",
       "     '/FontBBox': [-8, -154, 1007, 714],\n",
       "     '/Flags': 4,\n",
       "     '/Ascent': 714,\n",
       "     '/CapHeight': 714,\n",
       "     '/Descent': -154,\n",
       "     '/ItalicAngle': 0,\n",
       "     '/StemV': 151,\n",
       "     '/MissingWidth': 333,\n",
       "     '/CharSet': '/four/L/A/y/n/c/X/five/M/B/z/o/d/Y/six/N/C/p/e/seven/O/D/q/f/eight/P/E/r/g/F/s/h/colon/R/G/t/i/quoteleft/semicolon/S/H/u/j/T/I/emdash/v/k/U/J/w/l/a/V/K/x/m/b/W/space/comma/hyphen/period/zero/one/ampersand/two/quoteright',\n",
       "     '/FontFile3': {'/Subtype': '/Type1C', '/Filter': '/FlateDecode'}},\n",
       "    '/Type': '/Font',\n",
       "    '/FirstChar': 32,\n",
       "    '/LastChar': 208,\n",
       "    '/Widths': [333,\n",
       "     0,\n",
       "     0,\n",
       "     0,\n",
       "     0,\n",
       "     0,\n",
       "     833,\n",
       "     333,\n",
       "     0,\n",
       "     0,\n",
       "     0,\n",
       "     0,\n",
       "     333,\n",
       "     396,\n",
       "     333,\n",
       "     0,\n",
       "     500,\n",
       "     500,\n",
       "     500,\n",
       "     0,\n",
       "     500,\n",
       "     500,\n",
       "     498,\n",
       "     500,\n",
       "     500,\n",
       "     0,\n",
       "     333,\n",
       "     333,\n",
       "     0,\n",
       "     0,\n",
       "     0,\n",
       "     0,\n",
       "     0,\n",
       "     833,\n",
       "     781,\n",
       "     729,\n",
       "     833,\n",
       "     781,\n",
       "     781,\n",
       "     833,\n",
       "     833,\n",
       "     448,\n",
       "     667,\n",
       "     833,\n",
       "     781,\n",
       "     1010,\n",
       "     833,\n",
       "     781,\n",
       "     781,\n",
       "     0,\n",
       "     832,\n",
       "     729,\n",
       "     781,\n",
       "     833,\n",
       "     833,\n",
       "     1010,\n",
       "     833,\n",
       "     833,\n",
       "     0,\n",
       "     0,\n",
       "     0,\n",
       "     0,\n",
       "     0,\n",
       "     0,\n",
       "     333,\n",
       "     615,\n",
       "     615,\n",
       "     563,\n",
       "     615,\n",
       "     563,\n",
       "     396,\n",
       "     615,\n",
       "     667,\n",
       "     396,\n",
       "     396,\n",
       "     729,\n",
       "     396,\n",
       "     1010,\n",
       "     667,\n",
       "     615,\n",
       "     615,\n",
       "     615,\n",
       "     500,\n",
       "     500,\n",
       "     500,\n",
       "     667,\n",
       "     615,\n",
       "     833,\n",
       "     615,\n",
       "     667,\n",
       "     500,\n",
       "     0,\n",
       "     0,\n",
       "     0,\n",
       "     0,\n",
       "     0,\n",
       "     0,\n",
       "     0,\n",
       "     0,\n",
       "     0,\n",
       "     0,\n",
       "     0,\n",
       "     0,\n",
       "     0,\n",
       "     0,\n",
       "     0,\n",
       "     0,\n",
       "     0,\n",
       "     0,\n",
       "     0,\n",
       "     0,\n",
       "     0,\n",
       "     0,\n",
       "     0,\n",
       "     0,\n",
       "     0,\n",
       "     0,\n",
       "     0,\n",
       "     0,\n",
       "     0,\n",
       "     0,\n",
       "     0,\n",
       "     0,\n",
       "     0,\n",
       "     0,\n",
       "     0,\n",
       "     0,\n",
       "     0,\n",
       "     0,\n",
       "     0,\n",
       "     0,\n",
       "     0,\n",
       "     0,\n",
       "     0,\n",
       "     0,\n",
       "     0,\n",
       "     0,\n",
       "     0,\n",
       "     0,\n",
       "     0,\n",
       "     0,\n",
       "     0,\n",
       "     0,\n",
       "     0,\n",
       "     0,\n",
       "     0,\n",
       "     0,\n",
       "     0,\n",
       "     0,\n",
       "     0,\n",
       "     0,\n",
       "     0,\n",
       "     0,\n",
       "     0,\n",
       "     0,\n",
       "     0,\n",
       "     0,\n",
       "     0,\n",
       "     0,\n",
       "     0,\n",
       "     0,\n",
       "     0,\n",
       "     0,\n",
       "     0,\n",
       "     0,\n",
       "     0,\n",
       "     0,\n",
       "     0,\n",
       "     0,\n",
       "     0,\n",
       "     0,\n",
       "     0,\n",
       "     0,\n",
       "     0,\n",
       "     0,\n",
       "     0,\n",
       "     1000],\n",
       "    '/Encoding': {'/Type': '/Encoding',\n",
       "     '/BaseEncoding': '/WinAnsiEncoding',\n",
       "     '/Differences': [39, '/quoteright', 96, '/quoteleft', 208, '/emdash']},\n",
       "    '/Subtype': '/Type1'},\n",
       "   '/R10': {'/BaseFont': '/KPTPGI+MIonic-Italic',\n",
       "    '/FontDescriptor': {'/Type': '/FontDescriptor',\n",
       "     '/FontName': '/KPTPGI+MIonic-Italic',\n",
       "     '/FontBBox': [-38, -153, 1055, 716],\n",
       "     '/Flags': 4,\n",
       "     '/Ascent': 716,\n",
       "     '/CapHeight': 716,\n",
       "     '/Descent': -153,\n",
       "     '/ItalicAngle': 0,\n",
       "     '/StemV': 158,\n",
       "     '/MissingWidth': 333,\n",
       "     '/CharSet': '/A/y/n/c/M/B/o/d/Y/N/C/p/e/D/f/P/r/g/s/h/R/G/t/i/S/H/u/T/I/v/k/J/w/l/a/V/m/space',\n",
       "     '/FontFile3': {'/Subtype': '/Type1C', '/Filter': '/FlateDecode'}},\n",
       "    '/Type': '/Font',\n",
       "    '/FirstChar': 32,\n",
       "    '/LastChar': 121,\n",
       "    '/Widths': [333,\n",
       "     0,\n",
       "     0,\n",
       "     0,\n",
       "     0,\n",
       "     0,\n",
       "     0,\n",
       "     0,\n",
       "     0,\n",
       "     0,\n",
       "     0,\n",
       "     0,\n",
       "     0,\n",
       "     0,\n",
       "     0,\n",
       "     0,\n",
       "     0,\n",
       "     0,\n",
       "     0,\n",
       "     0,\n",
       "     0,\n",
       "     0,\n",
       "     0,\n",
       "     0,\n",
       "     0,\n",
       "     0,\n",
       "     0,\n",
       "     0,\n",
       "     0,\n",
       "     0,\n",
       "     0,\n",
       "     0,\n",
       "     0,\n",
       "     781,\n",
       "     781,\n",
       "     729,\n",
       "     833,\n",
       "     0,\n",
       "     0,\n",
       "     781,\n",
       "     833,\n",
       "     448,\n",
       "     500,\n",
       "     0,\n",
       "     0,\n",
       "     1010,\n",
       "     781,\n",
       "     0,\n",
       "     729,\n",
       "     0,\n",
       "     781,\n",
       "     615,\n",
       "     729,\n",
       "     0,\n",
       "     781,\n",
       "     0,\n",
       "     0,\n",
       "     781,\n",
       "     0,\n",
       "     0,\n",
       "     0,\n",
       "     0,\n",
       "     0,\n",
       "     0,\n",
       "     0,\n",
       "     615,\n",
       "     0,\n",
       "     500,\n",
       "     615,\n",
       "     500,\n",
       "     396,\n",
       "     563,\n",
       "     667,\n",
       "     333,\n",
       "     0,\n",
       "     615,\n",
       "     333,\n",
       "     833,\n",
       "     667,\n",
       "     563,\n",
       "     615,\n",
       "     0,\n",
       "     448,\n",
       "     448,\n",
       "     396,\n",
       "     667,\n",
       "     563,\n",
       "     833,\n",
       "     0,\n",
       "     615],\n",
       "    '/Encoding': '/WinAnsiEncoding',\n",
       "    '/Subtype': '/Type1'},\n",
       "   '/R12': {'/BaseFont': '/CUJUMA+NewCenturySchlbk-Bold',\n",
       "    '/FontDescriptor': {'/Type': '/FontDescriptor',\n",
       "     '/FontName': '/CUJUMA+NewCenturySchlbk-Bold',\n",
       "     '/FontBBox': [-18, -15, 1000, 737],\n",
       "     '/Flags': 4,\n",
       "     '/Ascent': 737,\n",
       "     '/CapHeight': 737,\n",
       "     '/Descent': -15,\n",
       "     '/ItalicAngle': 0,\n",
       "     '/StemV': 150,\n",
       "     '/MissingWidth': 287,\n",
       "     '/CharSet': '/L/A/six/N/C/seven/O/D/P/E/F/R/H/T/I/emdash/space/one',\n",
       "     '/FontFile3': {'/Subtype': '/Type1C', '/Filter': '/FlateDecode'}},\n",
       "    '/Type': '/Font',\n",
       "    '/FirstChar': 32,\n",
       "    '/LastChar': 208,\n",
       "    '/Widths': [287,\n",
       "     0,\n",
       "     0,\n",
       "     0,\n",
       "     0,\n",
       "     0,\n",
       "     0,\n",
       "     0,\n",
       "     0,\n",
       "     0,\n",
       "     0,\n",
       "     0,\n",
       "     0,\n",
       "     0,\n",
       "     0,\n",
       "     0,\n",
       "     0,\n",
       "     574,\n",
       "     0,\n",
       "     0,\n",
       "     0,\n",
       "     0,\n",
       "     574,\n",
       "     574,\n",
       "     0,\n",
       "     0,\n",
       "     0,\n",
       "     0,\n",
       "     0,\n",
       "     0,\n",
       "     0,\n",
       "     0,\n",
       "     0,\n",
       "     759,\n",
       "     0,\n",
       "     778,\n",
       "     833,\n",
       "     759,\n",
       "     722,\n",
       "     0,\n",
       "     870,\n",
       "     444,\n",
       "     0,\n",
       "     0,\n",
       "     722,\n",
       "     0,\n",
       "     833,\n",
       "     833,\n",
       "     759,\n",
       "     0,\n",
       "     815,\n",
       "     0,\n",
       "     722,\n",
       "     0,\n",
       "     0,\n",
       "     0,\n",
       "     0,\n",
       "     0,\n",
       "     0,\n",
       "     0,\n",
       "     0,\n",
       "     0,\n",
       "     0,\n",
       "     0,\n",
       "     0,\n",
       "     0,\n",
       "     0,\n",
       "     0,\n",
       "     0,\n",
       "     0,\n",
       "     0,\n",
       "     0,\n",
       "     0,\n",
       "     0,\n",
       "     0,\n",
       "     0,\n",
       "     0,\n",
       "     0,\n",
       "     0,\n",
       "     0,\n",
       "     0,\n",
       "     0,\n",
       "     0,\n",
       "     0,\n",
       "     0,\n",
       "     0,\n",
       "     0,\n",
       "     0,\n",
       "     0,\n",
       "     0,\n",
       "     0,\n",
       "     0,\n",
       "     0,\n",
       "     0,\n",
       "     0,\n",
       "     0,\n",
       "     0,\n",
       "     0,\n",
       "     0,\n",
       "     0,\n",
       "     0,\n",
       "     0,\n",
       "     0,\n",
       "     0,\n",
       "     0,\n",
       "     0,\n",
       "     0,\n",
       "     0,\n",
       "     0,\n",
       "     0,\n",
       "     0,\n",
       "     0,\n",
       "     0,\n",
       "     0,\n",
       "     0,\n",
       "     0,\n",
       "     0,\n",
       "     0,\n",
       "     0,\n",
       "     0,\n",
       "     0,\n",
       "     0,\n",
       "     0,\n",
       "     0,\n",
       "     0,\n",
       "     0,\n",
       "     0,\n",
       "     0,\n",
       "     0,\n",
       "     0,\n",
       "     0,\n",
       "     0,\n",
       "     0,\n",
       "     0,\n",
       "     0,\n",
       "     0,\n",
       "     0,\n",
       "     0,\n",
       "     0,\n",
       "     0,\n",
       "     0,\n",
       "     0,\n",
       "     0,\n",
       "     0,\n",
       "     0,\n",
       "     0,\n",
       "     0,\n",
       "     0,\n",
       "     0,\n",
       "     0,\n",
       "     0,\n",
       "     0,\n",
       "     0,\n",
       "     0,\n",
       "     0,\n",
       "     0,\n",
       "     0,\n",
       "     0,\n",
       "     0,\n",
       "     0,\n",
       "     0,\n",
       "     0,\n",
       "     0,\n",
       "     0,\n",
       "     0,\n",
       "     0,\n",
       "     0,\n",
       "     0,\n",
       "     0,\n",
       "     0,\n",
       "     0,\n",
       "     0,\n",
       "     0,\n",
       "     0,\n",
       "     0,\n",
       "     0,\n",
       "     1000],\n",
       "    '/Encoding': {'/Type': '/Encoding',\n",
       "     '/BaseEncoding': '/WinAnsiEncoding',\n",
       "     '/Differences': [208, '/emdash']},\n",
       "    '/Subtype': '/Type1'},\n",
       "   '/R13': {'/BaseFont': '/Helvetica',\n",
       "    '/Type': '/Font',\n",
       "    '/Subtype': '/Type1'}}},\n",
       " '/Contents': {'/Filter': '/FlateDecode'},\n",
       " '/Parent': {'/Type': '/Pages',\n",
       "  '/Count': 1,\n",
       "  '/Kids': [IndirectObject(4, 0, 3001497484040)]}}"
      ]
     },
     "execution_count": 97,
     "metadata": {},
     "output_type": "execute_result"
    }
   ],
   "source": [
    "pdf_writer.add_page(first_page) # Add the first page to the PDF writer"
   ]
  },
  {
   "cell_type": "code",
   "execution_count": 98,
   "id": "200fa12f",
   "metadata": {},
   "outputs": [],
   "source": [
    "new_pdf = open('New_Pdf.pdf','wb') # New PDF File Creating"
   ]
  },
  {
   "cell_type": "code",
   "execution_count": 99,
   "id": "2301cb67",
   "metadata": {},
   "outputs": [
    {
     "data": {
      "text/plain": [
       "(False, <_io.BufferedWriter name='New_Pdf.pdf'>)"
      ]
     },
     "execution_count": 99,
     "metadata": {},
     "output_type": "execute_result"
    }
   ],
   "source": [
    "pdf_writer.write(new_pdf) #Writing PDF Writter Object to New PDF Which having the first page content of the Previous PDF File"
   ]
  },
  {
   "cell_type": "code",
   "execution_count": 100,
   "id": "ad5021eb",
   "metadata": {},
   "outputs": [],
   "source": [
    "new_pdf.close()"
   ]
  },
  {
   "cell_type": "markdown",
   "id": "b2d387a4",
   "metadata": {},
   "source": [
    "### Now Read the Newly Created PDF File Content"
   ]
  },
  {
   "cell_type": "code",
   "execution_count": 101,
   "id": "c998dd9b",
   "metadata": {},
   "outputs": [
    {
     "data": {
      "text/plain": [
       "'D:\\\\RUMAN\\\\Code\\\\AI ML\\\\nlp'"
      ]
     },
     "execution_count": 101,
     "metadata": {},
     "output_type": "execute_result"
    }
   ],
   "source": [
    "pwd"
   ]
  },
  {
   "cell_type": "code",
   "execution_count": 102,
   "id": "520e84e1",
   "metadata": {},
   "outputs": [
    {
     "name": "stdout",
     "output_type": "stream",
     "text": [
      "Name: pypdf2\n",
      "Version: 3.0.1\n",
      "Summary: A pure-python PDF library capable of splitting, merging, cropping, and transforming PDF files\n",
      "Home-page: None\n",
      "Author: None\n",
      "Author-email: Mathieu Fenniak <biziqe@mathieu.fenniak.net>\n",
      "License: None\n",
      "Location: c:\\anaconda3\\envs\\nlp\\lib\\site-packages\n",
      "Requires: typing-extensions\n",
      "Required-by: \n",
      "---\n",
      "Name: pypdf2\n",
      "Version: 3.0.1\n",
      "Summary: A pure-python PDF library capable of splitting, merging, cropping, and transforming PDF files\n",
      "Home-page: None\n",
      "Author: None\n",
      "Author-email: Mathieu Fenniak <biziqe@mathieu.fenniak.net>\n",
      "License: None\n",
      "Location: c:\\anaconda3\\envs\\nlp\\lib\\site-packages\n",
      "Requires: typing-extensions\n",
      "Required-by: \n",
      "Note: you may need to restart the kernel to use updated packages.\n"
     ]
    }
   ],
   "source": [
    "pip show PyPDF2  # PYPDF2 Version Details Checking so that exact function can be used"
   ]
  },
  {
   "cell_type": "code",
   "execution_count": 103,
   "id": "4fb507df",
   "metadata": {},
   "outputs": [],
   "source": [
    "new_pdf = open('New_Pdf.pdf','rb') #PDF File Opened"
   ]
  },
  {
   "cell_type": "code",
   "execution_count": 104,
   "id": "1569377d",
   "metadata": {},
   "outputs": [
    {
     "data": {
      "text/plain": [
       "<_io.BufferedReader name='New_Pdf.pdf'>"
      ]
     },
     "execution_count": 104,
     "metadata": {},
     "output_type": "execute_result"
    }
   ],
   "source": [
    "new_pdf"
   ]
  },
  {
   "cell_type": "code",
   "execution_count": 105,
   "id": "d53944bd",
   "metadata": {},
   "outputs": [],
   "source": [
    "import PyPDF2\n",
    "first_page = PyPDF2.PdfReader(new_pdf).pages[0].extract_text()"
   ]
  },
  {
   "cell_type": "code",
   "execution_count": 106,
   "id": "43800a5f",
   "metadata": {},
   "outputs": [
    {
     "name": "stdout",
     "output_type": "stream",
     "text": [
      "Page XLV 1The delegates of the United Colonies of New Hampshire; Mas -\n",
      "sachusetts Bay; Rhode Island and Providence Plantations; Con -\n",
      "necticut; New York; New Jersey; Pennsylvania; New Castle,  \n",
      "Kent, and Sussex, in Delaware; Maryland; Virginia; North Caro -\n",
      "lina, and South Carolina, In Congress assembled at Philadelphia,  \n",
      "Resolved on the 10th of May, 1776, to recommend to the respec -\n",
      "tive assemblies and conventions of the United Colonies, where no  \n",
      "government sufficient to the exigencies of their affairs had been  \n",
      "established, to adopt such a government as should, in the opin -\n",
      "ion of the representatives of the people, best conduce to the hap -\n",
      "piness and safety of their constituents in particular, and of  \n",
      "America in general. A preamble to this resolution, agreed to on  \n",
      "the 15th of May, stated the intention to be totally to suppress  \n",
      "the exercise of every kind of authority under the British crown.  \n",
      "On the 7th of June, certain resolutions respecting independency  \n",
      "were moved and seconded. On the 10th of June it was resolved,  \n",
      "that a committee should be appointed to prepare a declaration  \n",
      "to the following effect: ‘‘That the United Colonies are, and of  \n",
      "right ought to be, free and independent States; that they are ab -\n",
      "solved from all allegiance to the British crown; and that all po -\n",
      "litical connection between them and the State of Great Britain  \n",
      "is, and ought to be, totally dissolved.’’ On the preceding day it  \n",
      "was determined that the committee for preparing the declara -\n",
      "tion should consist of five, and they were chosen accordingly, in  \n",
      "the following order: Mr. Jefferson, Mr. J. Adams, Mr. Franklin,  \n",
      "Mr. Sherman, Mr. R. R. Livingston. On the 11th of June a resolu -\n",
      "tion was passed to appoint a committee to prepare and digest  \n",
      "the form of a confederation to be entered into between the colo -\n",
      "nies, and another committee to prepare a plan of treaties to be  \n",
      "proposed to foreign powers. On the 12th of June, it was resolved,  \n",
      "that a committee of Congress should be appointed by the name  \n",
      "of a board of war and ordnance, to consist of five members. On  \n",
      "the 25th of June, a declaration of the deputies of Pennsylvania,  \n",
      "met in provincial conference, expressing their willingness to  \n",
      "concur in a vote declaring the United Colonies free and inde -\n",
      "pendent States, was laid before Congress and read. On the 28th  \n",
      "of June, the committee appointed to prepare a declaration of  \n",
      "independence brought in a draught, which was read, and ordered  \n",
      "to lie on the table. On the 1st of July, a resolution of the conven -\n",
      "tion of Maryland, passed the 28th of June, authorizing the depu -\n",
      "ties of that colony to concur in declaring the United Colonies  \n",
      "free and independent States, was laid before Congress and read.  \n",
      "On the same day Congress resolved itself into a committee of the  \n",
      "whole, to take into consideration the resolution respecting inde -\n",
      "pendency. On the 2d of July, a resolution declaring the colonies  \n",
      "free and independent States, was adopted. A declaration to that  \n",
      "effect was, on the same and the following days, taken into fur -\n",
      "ther consideration. Finally, on the 4th of July, the Declaration  \n",
      "of Independence was agreed to, engrossed on paper, signed by  \n",
      "John Hancock as president, and directed to be sent to the sev -\n",
      "eral assemblies, conventions, and committees, or councils of  \n",
      "safety, and to the several commanding officers of the continen -\n",
      "tal troops, and to be proclaimed in each of the United States,  \n",
      "and at the head of the Army. It was also ordered to be entered  \n",
      "upon the Journals of Congress, and on the 2d of August, a copy  \n",
      "engrossed on parchment was signed by all but one of the fifty-  \n",
      "six signers whose names are appended to it. That one was Mat -\n",
      "thew Thornton, of New Hampshire, who on taking his seat in No -\n",
      "vember asked and obtained the privilege of signing it. Several  \n",
      "who signed it on the 2d of August were absent when it was adopt -ed on the 4th of July, but, approving of it, they thus signified  \n",
      "their approbation.  \n",
      "NOTE.—The proof of this document, as published above, was  \n",
      "read by Mr. Ferdinand Jefferson, the Keeper of the Rolls at the  \n",
      "Department of State, at Washington, who compared it with the  \n",
      "fac-simile of the original in his custody. He says: ‘‘In the fac-  \n",
      "simile, as in the original, the whole instrument runs on without  \n",
      "a break, but dashes are mostly inserted. I have, in this copy, fol -\n",
      "lowed the arrangement of paragraphs adopted in the publication  \n",
      "of the Declaration in the newspaper of John Dunlap, and as  \n",
      "printed by him for the Congress, which printed copy is inserted  \n",
      "in the original Journal of the old Congress. The same paragraphs  \n",
      "are also made by the author, in the original draught preserved  \n",
      "in the Department of State.’’  THE DECLARATION OF INDEPENDENCE—17761 \n",
      "INCONGRESS , JULY4, 1776  \n",
      "The unanimous Declaration of the thirteen united  \n",
      "States of America  \n",
      "WHEN in the Course of human events, it be -\n",
      "comes necessary for one people to dissolve the  \n",
      "political bands which have connected them with  \n",
      "another, and to assume among the powers of the  \n",
      "earth, the separate and equal station to which  \n",
      "the Laws of Nature and of Nature’s God entitle  \n",
      "them, a decent respect to the opinions of man -\n",
      "kind requires that they should declare the  \n",
      "causes which impel them to the separation.  We hold these truths to be self-evident, that  \n",
      "all men are created equal, that they are en -\n",
      "dowed by their Creator with certain unalienable  \n",
      "Rights, that among these are Life, Liberty and  \n",
      "the pursuit of Happiness. That to secure these  \n",
      "rights, Governments are instituted among Men,  \n",
      "deriving their just powers from the consent of  \n",
      "the governed,—That whenever any Form of Gov -\n",
      "ernment becomes destructive of these ends, it is  \n",
      "the Right of the People to alter or to abolish it,  \n",
      "and to institute new Government, laying its  \n",
      "foundation on such principles and organizing its  \n",
      "powers in such form, as to them shall seem most  \n",
      "likely to effect their Safety and Happiness. Pru -\n",
      "dence, indeed, will dictate that Governments  \n",
      "long established should not be changed for light  \n",
      "and transient causes; and accordingly all experi -\n",
      "ence hath shewn, that mankind are more dis -\n",
      "posed to suffer, while evils are sufferable, than  \n",
      "to right themselves by abolishing the forms to  \n",
      "which they are accustomed. But when a long  \n",
      "train of abuses and usurpations, pursuing invari -\n",
      "ably the same Object evinces a design to reduce  \n",
      "them under absolute Despotism, it is their right,  \n",
      "it is their duty, to throw off such Government,  \n",
      "and to provide new Guards for their future secu -\n",
      "rity.—Such has been the patient sufferance of  \n",
      "these Colonies; and such is now the necessity  \n",
      "which constrains them to alter their former  \n",
      "Systems of Government. The history of the  \n",
      "present King of Great Britain is a history of re -\n",
      "peated injuries and usurpations, all having in di -\n",
      "rect object the establishment of an absolute  \n",
      "Tyranny over these States. To prove this, let  \n",
      "Facts be submitted to a candid world.  \n",
      "He has refused his Assent to Laws, the most  \n",
      "wholesome and necessary for the public good.  \n",
      "He has forbidden his Governors to pass Laws of  \n",
      "immediate and pressing importance, unless sus -\n",
      "pended in their operation till his Assent should  \n",
      "be obtained; and when so suspended, he has ut -\n",
      "terly neglected to attend to them.  \n",
      "He has refused to pass other Laws for the ac -\n",
      "commodation of large districts of people, unless  \n",
      "those people would relinquish the right of Rep -\n",
      "resentation in the Legislature, a right inestima -\n",
      "ble to them and formidable to tyrants only.  \n",
      "He has called together legislative bodies at  \n",
      "places unusual, uncomfortable, and distance  \n",
      "VerDate Aug 31 2005 08:33 Feb 15, 2008 Jkt 040101 PO 00000 Frm 00001 Fmt 5820 Sfmt 5820 Y:\\TS\\2006MAIN\\2006V1.MN\\V1PRE4.MN BOB\n"
     ]
    }
   ],
   "source": [
    "print(f\"{first_page}\")"
   ]
  },
  {
   "cell_type": "code",
   "execution_count": null,
   "id": "aee00ab8",
   "metadata": {},
   "outputs": [],
   "source": []
  },
  {
   "cell_type": "markdown",
   "id": "b8fb2000",
   "metadata": {},
   "source": [
    "### Using Another Library to Read the PDF File - PDF Plumber"
   ]
  },
  {
   "cell_type": "code",
   "execution_count": 107,
   "id": "f2cf467b",
   "metadata": {},
   "outputs": [
    {
     "name": "stdout",
     "output_type": "stream",
     "text": [
      "Requirement already satisfied: pdfplumber in c:\\anaconda3\\envs\\nlp\\lib\\site-packages (0.9.0)\n",
      "Requirement already satisfied: pdfminer.six==20221105 in c:\\anaconda3\\envs\\nlp\\lib\\site-packages (from pdfplumber) (20221105)\n",
      "Requirement already satisfied: Wand>=0.6.10 in c:\\anaconda3\\envs\\nlp\\lib\\site-packages (from pdfplumber) (0.6.13)\n",
      "Requirement already satisfied: Pillow>=9.1 in c:\\anaconda3\\envs\\nlp\\lib\\site-packages (from pdfplumber) (9.5.0)\n",
      "Requirement already satisfied: charset-normalizer>=2.0.0 in c:\\anaconda3\\envs\\nlp\\lib\\site-packages (from pdfminer.six==20221105->pdfplumber) (2.0.4)\n",
      "Requirement already satisfied: typing-extensions; python_version < \"3.8\" in c:\\anaconda3\\envs\\nlp\\lib\\site-packages (from pdfminer.six==20221105->pdfplumber) (4.4.0)\n",
      "Requirement already satisfied: cryptography>=36.0.0 in c:\\anaconda3\\envs\\nlp\\lib\\site-packages (from pdfminer.six==20221105->pdfplumber) (39.0.1)\n",
      "Requirement already satisfied: cffi>=1.12 in c:\\anaconda3\\envs\\nlp\\lib\\site-packages (from cryptography>=36.0.0->pdfminer.six==20221105->pdfplumber) (1.15.1)\n",
      "Requirement already satisfied: pycparser in c:\\anaconda3\\envs\\nlp\\lib\\site-packages (from cffi>=1.12->cryptography>=36.0.0->pdfminer.six==20221105->pdfplumber) (2.21)\n",
      "Note: you may need to restart the kernel to use updated packages.\n"
     ]
    }
   ],
   "source": [
    "pip install pdfplumber"
   ]
  },
  {
   "cell_type": "code",
   "execution_count": 108,
   "id": "0938e4cb",
   "metadata": {},
   "outputs": [
    {
     "name": "stdout",
     "output_type": "stream",
     "text": [
      "THE DECLARATION OF INDEPENDENCE—17761\n",
      "IN CONGRESS, JULY 4, 1776 We hold these truths to be self-evident, that\n",
      "all men are created equal, that they are en-\n",
      "The unanimous Declaration of the thirteen united\n",
      "dowed by their Creator with certain unalienable\n",
      "States of America\n",
      "Rights, that among these are Life, Liberty and\n",
      "WHEN in the Course of human events, it be- the pursuit of Happiness. That to secure these\n",
      "comes necessary for one people to dissolve the rights, Governments are instituted among Men,\n",
      "political bands which have connected them with deriving their just powers from the consent of\n",
      "another, and to assume among the powers of the the governed,—That whenever any Form of Gov-\n",
      "earth, the separate and equal station to which ernment becomes destructive of these ends, it is\n",
      "the Laws of Nature and of Nature’s God entitle the Right of the People to alter or to abolish it,\n",
      "them, a decent respect to the opinions of man- and to institute new Government, laying its\n",
      "kind requires that they should declare the foundation on such principles and organizing its\n",
      "causes which impel them to the separation. powers in such form, as to them shall seem most\n",
      "likely to effect their Safety and Happiness. Pru-\n",
      "dence, indeed, will dictate that Governments\n",
      "1The delegates of the United Colonies of New Hampshire; Mas-\n",
      "sachusetts Bay; Rhode Island and Providence Plantations; Con- long established should not be changed for light\n",
      "necticut; New York; New Jersey; Pennsylvania; New Castle, and transient causes; and accordingly all experi-\n",
      "Kent, and Sussex, in Delaware; Maryland; Virginia; North Caro- ence hath shewn, that mankind are more dis-\n",
      "lina, and South Carolina, In Congress assembled at Philadelphia,\n",
      "posed to suffer, while evils are sufferable, than\n",
      "Resolved on the 10th of May, 1776, to recommend to the respec-\n",
      "tive assemblies and conventions of the United Colonies, where no to right themselves by abolishing the forms to\n",
      "government sufficient to the exigencies of their affairs had been which they are accustomed. But when a long\n",
      "established, to adopt such a government as should, in the opin- train of abuses and usurpations, pursuing invari-\n",
      "ion of the representatives of the people, best conduce to the hap-\n",
      "piness and safety of their constituents in particular, and of ably the same Object evinces a design to reduce\n",
      "America in general. A preamble to this resolution, agreed to on them under absolute Despotism, it is their right,\n",
      "the 15th of May, stated the intention to be totally to suppress it is their duty, to throw off such Government,\n",
      "the exercise of every kind of authority under the British crown.\n",
      "and to provide new Guards for their future secu-\n",
      "On the 7th of June, certain resolutions respecting independency\n",
      "were moved and seconded. On the 10th of June it was resolved, rity.—Such has been the patient sufferance of\n",
      "that a committee should be appointed to prepare a declaration these Colonies; and such is now the necessity\n",
      "to the following effect: ‘‘That the United Colonies are, and of which constrains them to alter their former\n",
      "right ought to be, free and independent States; that they are ab-\n",
      "solved from all allegiance to the British crown; and that all po- Systems of Government. The history of the\n",
      "litical connection between them and the State of Great Britain present King of Great Britain is a history of re-\n",
      "is, and ought to be, totally dissolved.’’ On the preceding day it peated injuries and usurpations, all having in di-\n",
      "was determined that the committee for preparing the declara-\n",
      "rect object the establishment of an absolute\n",
      "tion should consist of five, and they were chosen accordingly, in\n",
      "the following order: Mr. Jefferson, Mr. J. Adams, Mr. Franklin, Tyranny over these States. To prove this, let\n",
      "Mr. Sherman, Mr. R. R. Livingston. On the 11th of June a resolu- Facts be submitted to a candid world.\n",
      "tion was passed to appoint a committee to prepare and digest He has refused his Assent to Laws, the most\n",
      "the form of a confederation to be entered into between the colo-\n",
      "wholesome and necessary for the public good.\n",
      "nies, and another committee to prepare a plan of treaties to be\n",
      "proposed to foreign powers. On the 12th of June, it was resolved, He has forbidden his Governors to pass Laws of\n",
      "that a committee of Congress should be appointed by the name immediate and pressing importance, unless sus-\n",
      "of a board of war and ordnance, to consist of five members. On pended in their operation till his Assent should\n",
      "the 25th of June, a declaration of the deputies of Pennsylvania,\n",
      "met in provincial conference, expressing their willingness to be obtained; and when so suspended, he has ut-\n",
      "concur in a vote declaring the United Colonies free and inde- terly neglected to attend to them.\n",
      "pendent States, was laid before Congress and read. On the 28th He has refused to pass other Laws for the ac-\n",
      "of June, the committee appointed to prepare a declaration of\n",
      "commodation of large districts of people, unless\n",
      "independence brought in a draught, which was read, and ordered\n",
      "to lie on the table. On the 1st of July, a resolution of the conven- those people would relinquish the right of Rep-\n",
      "tion of Maryland, passed the 28th of June, authorizing the depu- resentation in the Legislature, a right inestima-\n",
      "ties of that colony to concur in declaring the United Colonies ble to them and formidable to tyrants only.\n",
      "free and independent States, was laid before Congress and read.\n",
      "He has called together legislative bodies at\n",
      "On the same day Congress resolved itself into a committee of the\n",
      "whole, to take into consideration the resolution respecting inde- places unusual, uncomfortable, and distance\n",
      "pendency. On the 2d of July, a resolution declaring the colonies\n",
      "free and independent States, was adopted. A declaration to that\n",
      "effect was, on the same and the following days, taken into fur- ed on the 4th of July, but, approving of it, they thus signified\n",
      "ther consideration. Finally, on the 4th of July, the Declaration their approbation.\n",
      "of Independence was agreed to, engrossed on paper, signed by NOTE.—The proof of this document, as published above, was\n",
      "John Hancock as president, and directed to be sent to the sev- read by Mr. Ferdinand Jefferson, the Keeper of the Rolls at the\n",
      "eral assemblies, conventions, and committees, or councils of Department of State, at Washington, who compared it with the\n",
      "safety, and to the several commanding officers of the continen- fac-simile of the original in his custody. He says: ‘‘In the fac-\n",
      "tal troops, and to be proclaimed in each of the United States, simile, as in the original, the whole instrument runs on without\n",
      "and at the head of the Army. It was also ordered to be entered a break, but dashes are mostly inserted. I have, in this copy, fol-\n",
      "upon the Journals of Congress, and on the 2d of August, a copy lowed the arrangement of paragraphs adopted in the publication\n",
      "engrossed on parchment was signed by all but one of the fifty- of the Declaration in the newspaper of John Dunlap, and as\n",
      "six signers whose names are appended to it. That one was Mat- printed by him for the Congress, which printed copy is inserted\n",
      "thew Thornton, of New Hampshire, who on taking his seat in No- in the original Journal of the old Congress. The same paragraphs\n",
      "vember asked and obtained the privilege of signing it. Several are also made by the author, in the original draught preserved\n",
      "who signed it on the 2d of August were absent when it was adopt- in the Department of State.’’\n",
      "Page XLV\n",
      "VerDate Aug 31 2005 08:33 Feb 15, 2008 Jkt 040101 PO 00000 Frm 00001 Fmt 5820 Sfmt 5820 Y:\\TS\\2006MAIN\\2006V1.MN\\V1PRE4.MN BOB\n"
     ]
    }
   ],
   "source": [
    "import pdfplumber\n",
    "\n",
    "with pdfplumber.open('New_Pdf.pdf') as pdf:\n",
    "    first_page = pdf.pages[0]\n",
    "    text = first_page.extract_text()\n",
    "    print(text)"
   ]
  },
  {
   "cell_type": "code",
   "execution_count": null,
   "id": "01924852",
   "metadata": {},
   "outputs": [],
   "source": []
  },
  {
   "cell_type": "code",
   "execution_count": null,
   "id": "f09e005f",
   "metadata": {},
   "outputs": [],
   "source": []
  },
  {
   "cell_type": "markdown",
   "id": "60d43014",
   "metadata": {},
   "source": [
    "### Regular Expressions"
   ]
  },
  {
   "cell_type": "code",
   "execution_count": 109,
   "id": "c1c6cd67",
   "metadata": {},
   "outputs": [],
   "source": [
    "text = \"The phone number of the agent is 408-101-2356. Call Soon!\""
   ]
  },
  {
   "cell_type": "code",
   "execution_count": 110,
   "id": "7d91190f",
   "metadata": {},
   "outputs": [
    {
     "data": {
      "text/plain": [
       "True"
      ]
     },
     "execution_count": 110,
     "metadata": {},
     "output_type": "execute_result"
    }
   ],
   "source": [
    "\"phone\" in text"
   ]
  },
  {
   "cell_type": "code",
   "execution_count": 111,
   "id": "b3679a82",
   "metadata": {},
   "outputs": [
    {
     "data": {
      "text/plain": [
       "True"
      ]
     },
     "execution_count": 111,
     "metadata": {},
     "output_type": "execute_result"
    }
   ],
   "source": [
    "\"408-101-2356\" in text"
   ]
  },
  {
   "cell_type": "code",
   "execution_count": 112,
   "id": "e7d3d81f",
   "metadata": {},
   "outputs": [],
   "source": [
    "import re #Import Regular Expression Library"
   ]
  },
  {
   "cell_type": "code",
   "execution_count": 113,
   "id": "b2190cbc",
   "metadata": {},
   "outputs": [],
   "source": [
    "pattern = \"phone\""
   ]
  },
  {
   "cell_type": "code",
   "execution_count": 114,
   "id": "8f8ac26a",
   "metadata": {},
   "outputs": [
    {
     "data": {
      "text/plain": [
       "<re.Match object; span=(4, 9), match='phone'>"
      ]
     },
     "execution_count": 114,
     "metadata": {},
     "output_type": "execute_result"
    }
   ],
   "source": [
    "re.search(pattern,text)"
   ]
  },
  {
   "cell_type": "code",
   "execution_count": 115,
   "id": "ef144f47",
   "metadata": {},
   "outputs": [],
   "source": [
    "my_match = re.search(pattern,text)"
   ]
  },
  {
   "cell_type": "code",
   "execution_count": 116,
   "id": "a1f53659",
   "metadata": {},
   "outputs": [
    {
     "data": {
      "text/plain": [
       "(4, 9)"
      ]
     },
     "execution_count": 116,
     "metadata": {},
     "output_type": "execute_result"
    }
   ],
   "source": [
    "my_match.span() # It will Return Starting and Ending Index Number of the Searched Pattern"
   ]
  },
  {
   "cell_type": "code",
   "execution_count": 117,
   "id": "bccff3b8",
   "metadata": {},
   "outputs": [
    {
     "data": {
      "text/plain": [
       "4"
      ]
     },
     "execution_count": 117,
     "metadata": {},
     "output_type": "execute_result"
    }
   ],
   "source": [
    "my_match.start() # Returns Starting Index Number of the Pattern "
   ]
  },
  {
   "cell_type": "code",
   "execution_count": 118,
   "id": "59c0c758",
   "metadata": {},
   "outputs": [
    {
     "data": {
      "text/plain": [
       "9"
      ]
     },
     "execution_count": 118,
     "metadata": {},
     "output_type": "execute_result"
    }
   ],
   "source": [
    "my_match.end() # Returns Ending Index Number of the Pattern"
   ]
  },
  {
   "cell_type": "markdown",
   "id": "b2155ade",
   "metadata": {},
   "source": [
    "### Repeated Pattern Searching"
   ]
  },
  {
   "cell_type": "markdown",
   "id": "c55360e0",
   "metadata": {},
   "source": [
    "It will only return the First Matched Index"
   ]
  },
  {
   "cell_type": "code",
   "execution_count": 119,
   "id": "b2028dad",
   "metadata": {},
   "outputs": [],
   "source": [
    "text = \"My phone is a new phone.\""
   ]
  },
  {
   "cell_type": "code",
   "execution_count": 120,
   "id": "d70ed127",
   "metadata": {},
   "outputs": [],
   "source": [
    "pattern = \"phone\""
   ]
  },
  {
   "cell_type": "code",
   "execution_count": 121,
   "id": "2f49d247",
   "metadata": {},
   "outputs": [
    {
     "name": "stdout",
     "output_type": "stream",
     "text": [
      "Match starts at 3 and ends at 8\n"
     ]
    }
   ],
   "source": [
    "match = re.search(pattern, text)\n",
    "if match:\n",
    "    start, end = match.span()\n",
    "    print(f\"Match starts at {start} and ends at {end}\")\n",
    "else:\n",
    "    print(f\"Pattern Not Found\")"
   ]
  },
  {
   "cell_type": "markdown",
   "id": "63f0a24e",
   "metadata": {},
   "source": [
    "Finding All Matched"
   ]
  },
  {
   "cell_type": "code",
   "execution_count": 122,
   "id": "051da4de",
   "metadata": {},
   "outputs": [],
   "source": [
    "all_matches = re.findall(pattern,text)"
   ]
  },
  {
   "cell_type": "code",
   "execution_count": 123,
   "id": "14c50b33",
   "metadata": {},
   "outputs": [
    {
     "data": {
      "text/plain": [
       "2"
      ]
     },
     "execution_count": 123,
     "metadata": {},
     "output_type": "execute_result"
    }
   ],
   "source": [
    "len(all_matches)"
   ]
  },
  {
   "cell_type": "code",
   "execution_count": 124,
   "id": "a7066d79",
   "metadata": {},
   "outputs": [
    {
     "data": {
      "text/plain": [
       "list"
      ]
     },
     "execution_count": 124,
     "metadata": {},
     "output_type": "execute_result"
    }
   ],
   "source": [
    "type(all_matches)"
   ]
  },
  {
   "cell_type": "code",
   "execution_count": 125,
   "id": "fd742f92",
   "metadata": {},
   "outputs": [
    {
     "name": "stdout",
     "output_type": "stream",
     "text": [
      "['phone', 'phone']\n"
     ]
    }
   ],
   "source": [
    "print(all_matches) # Find All Returns the String only"
   ]
  },
  {
   "cell_type": "markdown",
   "id": "ffa447f9",
   "metadata": {},
   "source": [
    "The method `.span()` is not available on the result of `re.findall()` because `re.findall()` returns a list of strings (not a match object). The `.span()` method is associated with match objects returned by methods like `re.search()` or `re.finditer()`, not with the individual string matches found by `re.findall()`."
   ]
  },
  {
   "cell_type": "code",
   "execution_count": 126,
   "id": "6d735100",
   "metadata": {},
   "outputs": [],
   "source": [
    "all_matches = re.finditer(pattern,text)"
   ]
  },
  {
   "cell_type": "code",
   "execution_count": 127,
   "id": "256c74d5",
   "metadata": {},
   "outputs": [
    {
     "data": {
      "text/plain": [
       "callable_iterator"
      ]
     },
     "execution_count": 127,
     "metadata": {},
     "output_type": "execute_result"
    }
   ],
   "source": [
    "type(all_matches)"
   ]
  },
  {
   "cell_type": "code",
   "execution_count": 128,
   "id": "d31c0f26",
   "metadata": {},
   "outputs": [
    {
     "data": {
      "text/plain": [
       "'phone'"
      ]
     },
     "execution_count": 128,
     "metadata": {},
     "output_type": "execute_result"
    }
   ],
   "source": [
    "pattern #Checking Patter"
   ]
  },
  {
   "cell_type": "code",
   "execution_count": 129,
   "id": "5f69e854",
   "metadata": {},
   "outputs": [
    {
     "data": {
      "text/plain": [
       "'My phone is a new phone.'"
      ]
     },
     "execution_count": 129,
     "metadata": {},
     "output_type": "execute_result"
    }
   ],
   "source": [
    "text # Text Checking"
   ]
  },
  {
   "cell_type": "code",
   "execution_count": 130,
   "id": "b1907c00",
   "metadata": {},
   "outputs": [
    {
     "name": "stdout",
     "output_type": "stream",
     "text": [
      "(3, 8)\n",
      "(18, 23)\n"
     ]
    }
   ],
   "source": [
    "for match in all_matches:\n",
    "    print(match.span())"
   ]
  },
  {
   "cell_type": "markdown",
   "id": "e369be47",
   "metadata": {},
   "source": [
    "### Pattern Matching - All Possible Identifiers\n",
    "| Character | Description      | Example Pattern Code | Example Match |\n",
    "|-----------|-------------------|----------------------|---------------|\n",
    "| \\d        | A digit           | file_\\d\\d            | file_25       |\n",
    "| \\w        | Alphanumeric      | \\w-\\w\\w\\w            | A-b_1         |\n",
    "| \\s        | White space       | a\\sb\\sc              | a b c         |\n",
    "| \\D        | A non-digit       | \\D\\D\\D               | ABC           |\n",
    "| \\W        | Non-alphanumeric  | \\W\\W\\W\\W\\W           | *-+=)         |\n",
    "| \\S        | Non-whitespace    | \\S\\S\\S\\S\\S           | Yoyo          |\n",
    "\n",
    "\n",
    "### Pattern Matching - Quantifiers \n",
    "Now we know the special character designations, We can use them along with Quantifiers to define how many we expect\n",
    "| Character | Description                  | Example Pattern Code | Example Match     |\n",
    "|-----------|-------------------------------|----------------------|-------------------|\n",
    "| +         | Occurs one or more times     | Version \\w-\\w+       | Version A-b1_1    |\n",
    "| {3}       | Occurs exactly 3 times       | \\D{3}                | abc               |\n",
    "| {2,4}     | Occurs 2 to 4 times          | \\d{2,4}              | 123               |\n",
    "| {3,}      | Occurs 3 or more times       | \\w{3,}               | anycharacters     |\n",
    "| *         | Occurs zero or more times    | A*B*C*               | AAACC             |\n",
    "| ?         | Once or none                 | plurals?             | plural            |\n"
   ]
  },
  {
   "cell_type": "code",
   "execution_count": 131,
   "id": "ae443750",
   "metadata": {},
   "outputs": [],
   "source": [
    "text = \"My Phone Number is (880)-1723-974489\""
   ]
  },
  {
   "cell_type": "code",
   "execution_count": 132,
   "id": "03c2b0f8",
   "metadata": {},
   "outputs": [],
   "source": [
    "pattern= r'\\(\\d\\d\\d\\)-\\d\\d\\d\\d-\\d\\d\\d\\d\\d\\d' #Approach One"
   ]
  },
  {
   "cell_type": "code",
   "execution_count": 133,
   "id": "e8ec0f4d",
   "metadata": {},
   "outputs": [],
   "source": [
    "phone_number = re.search(pattern,text)"
   ]
  },
  {
   "cell_type": "code",
   "execution_count": 134,
   "id": "caad006e",
   "metadata": {},
   "outputs": [
    {
     "data": {
      "text/plain": [
       "<re.Match object; span=(19, 36), match='(880)-1723-974489'>"
      ]
     },
     "execution_count": 134,
     "metadata": {},
     "output_type": "execute_result"
    }
   ],
   "source": [
    "phone_number"
   ]
  },
  {
   "cell_type": "code",
   "execution_count": 135,
   "id": "cfbe6e32",
   "metadata": {},
   "outputs": [
    {
     "data": {
      "text/plain": [
       "'(880)-1723-974489'"
      ]
     },
     "execution_count": 135,
     "metadata": {},
     "output_type": "execute_result"
    }
   ],
   "source": [
    "phone_number.group()"
   ]
  },
  {
   "cell_type": "code",
   "execution_count": 136,
   "id": "e60314a4",
   "metadata": {},
   "outputs": [],
   "source": [
    "pattern = r'\\(\\d{3}\\)-\\d{4}-\\d{6}' # Approach Two"
   ]
  },
  {
   "cell_type": "code",
   "execution_count": 137,
   "id": "4122c156",
   "metadata": {},
   "outputs": [],
   "source": [
    "phone_number = re.search(pattern, text)"
   ]
  },
  {
   "cell_type": "code",
   "execution_count": 138,
   "id": "7bc84f48",
   "metadata": {},
   "outputs": [
    {
     "data": {
      "text/plain": [
       "<re.Match object; span=(19, 36), match='(880)-1723-974489'>"
      ]
     },
     "execution_count": 138,
     "metadata": {},
     "output_type": "execute_result"
    }
   ],
   "source": [
    "phone_number"
   ]
  },
  {
   "cell_type": "code",
   "execution_count": 139,
   "id": "46031c22",
   "metadata": {},
   "outputs": [
    {
     "data": {
      "text/plain": [
       "'(880)-1723-974489'"
      ]
     },
     "execution_count": 139,
     "metadata": {},
     "output_type": "execute_result"
    }
   ],
   "source": [
    "phone_number.group()"
   ]
  },
  {
   "cell_type": "code",
   "execution_count": 140,
   "id": "3d3ea34f",
   "metadata": {},
   "outputs": [],
   "source": [
    "text = \"My Phone Number is (+880)-1723-974489\""
   ]
  },
  {
   "cell_type": "code",
   "execution_count": 141,
   "id": "3770a476",
   "metadata": {},
   "outputs": [],
   "source": [
    "pattern = r'\\(\\W\\d{3}\\)-\\d{4}-\\d{6}' # It may Return if the Sign is + - * = any of them"
   ]
  },
  {
   "cell_type": "code",
   "execution_count": 142,
   "id": "d6c01c13",
   "metadata": {},
   "outputs": [],
   "source": [
    "phone_number = re.search(pattern,text).group()"
   ]
  },
  {
   "cell_type": "code",
   "execution_count": 143,
   "id": "43cf1567",
   "metadata": {},
   "outputs": [
    {
     "data": {
      "text/plain": [
       "'(+880)-1723-974489'"
      ]
     },
     "execution_count": 143,
     "metadata": {},
     "output_type": "execute_result"
    }
   ],
   "source": [
    "phone_number"
   ]
  },
  {
   "cell_type": "code",
   "execution_count": 144,
   "id": "51a673f9",
   "metadata": {},
   "outputs": [],
   "source": [
    "pattern = r'\\(\\*\\d{3}\\)-\\d{4}-\\d{6}' # Exact Sign Searching for (*880)-1723-974489"
   ]
  },
  {
   "cell_type": "code",
   "execution_count": 145,
   "id": "e17eb1f8",
   "metadata": {},
   "outputs": [
    {
     "name": "stdout",
     "output_type": "stream",
     "text": [
      "Pattern not found\n"
     ]
    }
   ],
   "source": [
    "match = re.search(pattern, text)\n",
    "if match:\n",
    "    print(\"Pattern found:\", match.group())\n",
    "else:\n",
    "    print(\"Pattern not found\")"
   ]
  },
  {
   "cell_type": "markdown",
   "id": "18e07532",
   "metadata": {},
   "source": [
    "### Pattern Matching - OR Operation"
   ]
  },
  {
   "cell_type": "code",
   "execution_count": 146,
   "id": "4b34806f",
   "metadata": {},
   "outputs": [
    {
     "data": {
      "text/plain": [
       "<re.Match object; span=(5, 10), match='woman'>"
      ]
     },
     "execution_count": 146,
     "metadata": {},
     "output_type": "execute_result"
    }
   ],
   "source": [
    "re.search(r'man|woman', 'This woman is here')"
   ]
  },
  {
   "cell_type": "code",
   "execution_count": 147,
   "id": "0218f438",
   "metadata": {},
   "outputs": [
    {
     "data": {
      "text/plain": [
       "<re.Match object; span=(5, 8), match='man'>"
      ]
     },
     "execution_count": 147,
     "metadata": {},
     "output_type": "execute_result"
    }
   ],
   "source": [
    "re.search(r'man|woman', 'This man is here')"
   ]
  },
  {
   "cell_type": "markdown",
   "id": "aebf1c7d",
   "metadata": {},
   "source": [
    "### Wild Card Matching"
   ]
  },
  {
   "cell_type": "code",
   "execution_count": 148,
   "id": "83e946e4",
   "metadata": {},
   "outputs": [
    {
     "data": {
      "text/plain": [
       "['cat', 'hat', ' at', 'sat', 'lat', 'hat']"
      ]
     },
     "execution_count": 148,
     "metadata": {},
     "output_type": "execute_result"
    }
   ],
   "source": [
    "re.findall(r'.at','The cat in the hat at sat splat hatat')"
   ]
  },
  {
   "cell_type": "markdown",
   "id": "aecca7d1",
   "metadata": {},
   "source": [
    "#### Breakdown of Matches for `r'.at'`:\n",
    "\n",
    "- **`cat`**: \n",
    "  - The `c` is any character (matches `.`), followed by `at`.\n",
    "  \n",
    "- **`hat`**: \n",
    "  - The `h` is any character (matches `.`), followed by `at`.\n",
    "  \n",
    "- **` at`**: \n",
    "  - The space before `at` is treated as the \"any character\" (matches `.`), followed by `at`.\n",
    "  \n",
    "- **`sat`**: \n",
    "  - The `s` is any character (matches `.`), followed by `at`.\n",
    "\n",
    "- **`lat`**: \n",
    "  - The `l` is any character (matches `.`), followed by `at`.\n",
    "\n",
    "- **`hat`**: \n",
    "  - The `h` is any character (matches `.`), followed by `at`.\n",
    "\n",
    "#### Important Notes:\n",
    "- The **space** (`' '`) is treated as a valid character for `.` and thus matches the pattern, which is why ` at` is included in the results.\n",
    "- By default, the dot (`.`) does **not** match newline characters (`\\n`). If you want to match across newlines as well, you can use the `re.DOTALL` flag to allow the dot (`.`) to match all characters, including newlines.\n",
    "\n",
    "\n"
   ]
  },
  {
   "cell_type": "code",
   "execution_count": 149,
   "id": "0b519180",
   "metadata": {},
   "outputs": [
    {
     "name": "stdout",
     "output_type": "stream",
     "text": [
      "['cat', 'hat', 'sat', 'mat']\n"
     ]
    }
   ],
   "source": [
    "text = \"\"\"The cat\n",
    "in the hat\n",
    "at sat on a mat\"\"\"\n",
    "\n",
    "# Pattern to match any character followed by 'at'\n",
    "matches = re.findall(r'.at', text)\n",
    "\n",
    "print(matches)"
   ]
  },
  {
   "cell_type": "markdown",
   "id": "89723232",
   "metadata": {},
   "source": [
    "here `at` is not selected as it has no leading character including `' '` and new line is not counted"
   ]
  },
  {
   "cell_type": "code",
   "execution_count": 150,
   "id": "2d407214",
   "metadata": {},
   "outputs": [
    {
     "data": {
      "text/plain": [
       "[' cat', ' hat', ' sat', 'plat']"
      ]
     },
     "execution_count": 150,
     "metadata": {},
     "output_type": "execute_result"
    }
   ],
   "source": [
    "re.findall(r'..at', 'The cat in the hat at sat splat')"
   ]
  },
  {
   "cell_type": "code",
   "execution_count": 151,
   "id": "8ed45e63",
   "metadata": {},
   "outputs": [
    {
     "data": {
      "text/plain": [
       "['2']"
      ]
     },
     "execution_count": 151,
     "metadata": {},
     "output_type": "execute_result"
    }
   ],
   "source": [
    "re.findall(r'\\d$', 'This ends with a number 2')"
   ]
  },
  {
   "cell_type": "code",
   "execution_count": 152,
   "id": "8bea25ff",
   "metadata": {},
   "outputs": [
    {
     "data": {
      "text/plain": [
       "['1']"
      ]
     },
     "execution_count": 152,
     "metadata": {},
     "output_type": "execute_result"
    }
   ],
   "source": [
    "re.findall(r'^\\d', '1 is the starting number')"
   ]
  },
  {
   "cell_type": "code",
   "execution_count": 153,
   "id": "de10325f",
   "metadata": {},
   "outputs": [],
   "source": [
    "phrase = \"there are 3 numbers 32 inside 5 this sentence\""
   ]
  },
  {
   "cell_type": "markdown",
   "id": "188b0234",
   "metadata": {},
   "source": [
    "#### All Characters Except Digits"
   ]
  },
  {
   "cell_type": "code",
   "execution_count": 154,
   "id": "0c453b53",
   "metadata": {},
   "outputs": [
    {
     "data": {
      "text/plain": [
       "['t',\n",
       " 'h',\n",
       " 'e',\n",
       " 'r',\n",
       " 'e',\n",
       " ' ',\n",
       " 'a',\n",
       " 'r',\n",
       " 'e',\n",
       " ' ',\n",
       " ' ',\n",
       " 'n',\n",
       " 'u',\n",
       " 'm',\n",
       " 'b',\n",
       " 'e',\n",
       " 'r',\n",
       " 's',\n",
       " ' ',\n",
       " ' ',\n",
       " 'i',\n",
       " 'n',\n",
       " 's',\n",
       " 'i',\n",
       " 'd',\n",
       " 'e',\n",
       " ' ',\n",
       " ' ',\n",
       " 't',\n",
       " 'h',\n",
       " 'i',\n",
       " 's',\n",
       " ' ',\n",
       " 's',\n",
       " 'e',\n",
       " 'n',\n",
       " 't',\n",
       " 'e',\n",
       " 'n',\n",
       " 'c',\n",
       " 'e']"
      ]
     },
     "execution_count": 154,
     "metadata": {},
     "output_type": "execute_result"
    }
   ],
   "source": [
    "re.findall(r\"[^\\d]\",phrase) "
   ]
  },
  {
   "cell_type": "markdown",
   "id": "048ec201",
   "metadata": {},
   "source": [
    "#### find sequences of characters in a string that do not contain digits."
   ]
  },
  {
   "cell_type": "code",
   "execution_count": 155,
   "id": "54b7edc3",
   "metadata": {},
   "outputs": [
    {
     "data": {
      "text/plain": [
       "['there are ', ' numbers ', ' inside ', ' this sentence']"
      ]
     },
     "execution_count": 155,
     "metadata": {},
     "output_type": "execute_result"
    }
   ],
   "source": [
    "re.findall(r\"[^\\d]+\",phrase)"
   ]
  },
  {
   "cell_type": "code",
   "execution_count": 156,
   "id": "d30b4603",
   "metadata": {},
   "outputs": [],
   "source": [
    "test_phrase = \"This is a string! but it has punctuation, How to remove it?\""
   ]
  },
  {
   "cell_type": "markdown",
   "id": "54ed4c4c",
   "metadata": {},
   "source": [
    "#### All Characters Including Spaces Except ! ?"
   ]
  },
  {
   "cell_type": "code",
   "execution_count": 157,
   "id": "2579e8db",
   "metadata": {},
   "outputs": [
    {
     "data": {
      "text/plain": [
       "['T',\n",
       " 'h',\n",
       " 'i',\n",
       " 's',\n",
       " ' ',\n",
       " 'i',\n",
       " 's',\n",
       " ' ',\n",
       " 'a',\n",
       " ' ',\n",
       " 's',\n",
       " 't',\n",
       " 'r',\n",
       " 'i',\n",
       " 'n',\n",
       " 'g',\n",
       " ' ',\n",
       " 'b',\n",
       " 'u',\n",
       " 't',\n",
       " ' ',\n",
       " 'i',\n",
       " 't',\n",
       " ' ',\n",
       " 'h',\n",
       " 'a',\n",
       " 's',\n",
       " ' ',\n",
       " 'p',\n",
       " 'u',\n",
       " 'n',\n",
       " 'c',\n",
       " 't',\n",
       " 'u',\n",
       " 'a',\n",
       " 't',\n",
       " 'i',\n",
       " 'o',\n",
       " 'n',\n",
       " ',',\n",
       " ' ',\n",
       " 'H',\n",
       " 'o',\n",
       " 'w',\n",
       " ' ',\n",
       " 't',\n",
       " 'o',\n",
       " ' ',\n",
       " 'r',\n",
       " 'e',\n",
       " 'm',\n",
       " 'o',\n",
       " 'v',\n",
       " 'e',\n",
       " ' ',\n",
       " 'i',\n",
       " 't']"
      ]
     },
     "execution_count": 157,
     "metadata": {},
     "output_type": "execute_result"
    }
   ],
   "source": [
    "re.findall(r\"[^!.?]\", test_phrase) "
   ]
  },
  {
   "cell_type": "markdown",
   "id": "93f787cd",
   "metadata": {},
   "source": [
    "#### All Characters Sequences Including Space Except ! ?"
   ]
  },
  {
   "cell_type": "code",
   "execution_count": 158,
   "id": "8a7bb0a5",
   "metadata": {},
   "outputs": [
    {
     "data": {
      "text/plain": [
       "['This is a string', ' but it has punctuation, How to remove it']"
      ]
     },
     "execution_count": 158,
     "metadata": {},
     "output_type": "execute_result"
    }
   ],
   "source": [
    "re.findall(r\"[^!.?]+\", test_phrase) "
   ]
  },
  {
   "cell_type": "markdown",
   "id": "796c44bc",
   "metadata": {},
   "source": [
    "### Python Text Basics - Assessment\n",
    "\n",
    "Print an f-string that displays NLP stands for Natural Language Processing using the variables Provided `abbr='NLP'` and `text='Natural Language Processing'`.\n"
   ]
  },
  {
   "cell_type": "code",
   "execution_count": 159,
   "id": "f9318bac",
   "metadata": {},
   "outputs": [
    {
     "name": "stdout",
     "output_type": "stream",
     "text": [
      "NLP stands for Natural Language Processing\n"
     ]
    }
   ],
   "source": [
    "abbr = 'NLP'\n",
    "text = 'Natural Language Processing'\n",
    "print(f\"{abbr} stands for {text}\")\n"
   ]
  },
  {
   "cell_type": "code",
   "execution_count": null,
   "id": "23499914",
   "metadata": {},
   "outputs": [],
   "source": []
  },
  {
   "cell_type": "code",
   "execution_count": null,
   "id": "8dad3dbc",
   "metadata": {},
   "outputs": [],
   "source": []
  },
  {
   "cell_type": "code",
   "execution_count": null,
   "id": "9b4d1efe",
   "metadata": {},
   "outputs": [],
   "source": []
  },
  {
   "cell_type": "code",
   "execution_count": null,
   "id": "59cb99e9",
   "metadata": {},
   "outputs": [],
   "source": []
  }
 ],
 "metadata": {
  "kernelspec": {
   "display_name": "Python 3 (ipykernel)",
   "language": "python",
   "name": "python3"
  },
  "language_info": {
   "codemirror_mode": {
    "name": "ipython",
    "version": 3
   },
   "file_extension": ".py",
   "mimetype": "text/x-python",
   "name": "python",
   "nbconvert_exporter": "python",
   "pygments_lexer": "ipython3",
   "version": "3.7.16"
  }
 },
 "nbformat": 4,
 "nbformat_minor": 5
}
